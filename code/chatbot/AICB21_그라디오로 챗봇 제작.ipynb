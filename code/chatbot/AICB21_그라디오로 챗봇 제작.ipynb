{
 "cells": [
  {
   "cell_type": "markdown",
   "metadata": {
    "id": "ZluROwhHFDJE"
   },
   "source": [
    "# 5-3 챗봇 기능 추가"
   ]
  },
  {
   "cell_type": "markdown",
   "metadata": {
    "id": "iebBkSHb8MXu"
   },
   "source": [
    "모듈 임포트 및 기본 설정"
   ]
  },
  {
   "cell_type": "code",
   "execution_count": null,
   "metadata": {
    "id": "05HNOk5NFF4w"
   },
   "outputs": [],
   "source": [
    "!pip install gradio==4.10\n",
    "!pip install openai"
   ]
  },
  {
   "cell_type": "code",
   "execution_count": null,
   "metadata": {
    "executionInfo": {
     "elapsed": 1780,
     "status": "ok",
     "timestamp": 1708872367368,
     "user": {
      "displayName": "Altemion",
      "userId": "06467421994166200677"
     },
     "user_tz": -540
    },
    "id": "zMR4FkXsuhcy"
   },
   "outputs": [],
   "source": [
    "from openai import OpenAI\n",
    "from google.colab import userdata\n",
    "\n",
    "# client = OpenAI(api_key=userdata.get('OPENAI_API_KEY'))\n",
    "client = OpenAI(api_key=userdata.get('API_KEY_OPENAI'))"
   ]
  },
  {
   "cell_type": "code",
   "execution_count": null,
   "metadata": {
    "id": "wFcFNAELFjdH"
   },
   "outputs": [],
   "source": [
    "import gradio as gr\n",
    "\n",
    "with gr.Blocks(theme=gr.themes.Default()) as app:\n",
    "    with gr.Tab(\"상담봇\"):\n",
    "        pass\n",
    "    with gr.Tab(\"번역봇\"):\n",
    "        pass\n",
    "    with gr.Tab(\"소설봇\"):\n",
    "        pass\n",
    "app.launch()"
   ]
  },
  {
   "cell_type": "markdown",
   "metadata": {
    "id": "HlzE9_AspE4U"
   },
   "source": [
    "# 상담봇 기능 추가"
   ]
  },
  {
   "cell_type": "code",
   "execution_count": 1,
   "metadata": {
    "id": "mYMMFqMyxfOr"
   },
   "outputs": [
    {
     "name": "stderr",
     "output_type": "stream",
     "text": [
      "C:\\Users\\bigpy\\AppData\\Local\\Temp\\ipykernel_27492\\3746403451.py:39: UserWarning: You have not specified a value for the `type` parameter. Defaulting to the 'tuples' format for chatbot messages, but this is deprecated and will be removed in a future version of Gradio. Please set type='messages' instead, which uses openai-style dictionaries with 'role' and 'content' keys.\n",
      "  cb_chatbot = gr.Chatbot(\n"
     ]
    },
    {
     "name": "stdout",
     "output_type": "stream",
     "text": [
      "* Running on local URL:  http://127.0.0.1:7885\n",
      "* To create a public link, set `share=True` in `launch()`.\n"
     ]
    },
    {
     "data": {
      "text/html": [
       "<div><iframe src=\"http://127.0.0.1:7885/\" width=\"100%\" height=\"500\" allow=\"autoplay; camera; microphone; clipboard-read; clipboard-write;\" frameborder=\"0\" allowfullscreen></iframe></div>"
      ],
      "text/plain": [
       "<IPython.core.display.HTML object>"
      ]
     },
     "metadata": {},
     "output_type": "display_data"
    },
    {
     "data": {
      "text/plain": []
     },
     "execution_count": 1,
     "metadata": {},
     "output_type": "execute_result"
    }
   ],
   "source": [
    "import gradio as gr\n",
    "\n",
    "# 상담봇\n",
    "def counseling_bot_chat(message, chat_history):\n",
    "    if message == \"\":\n",
    "        return \"\", chat_history\n",
    "    else:\n",
    "        completion = client.chat.completions.create(\n",
    "            model=\"gpt-3.5-turbo\",\n",
    "            messages=[\n",
    "                {\"role\": \"system\", \"content\": \"당신은 헤이마트의 상담원입니다. 마트 상품과 관련되지 않은 질문에는 정중히 거절하세요.\"},\n",
    "                {\"role\": \"user\", \"content\": message}\n",
    "            ])\n",
    "        chat_history.append([message, completion.choices[0].message.content])\n",
    "        return \"\", chat_history\n",
    "\n",
    "# 상담봇 - 되돌리기\n",
    "def counseling_bot_undo(chat_history):\n",
    "    if len(chat_history) > 1:\n",
    "        chat_history.pop()\n",
    "    return chat_history\n",
    "\n",
    "# 상담봇 - 초기화\n",
    "def counseling_bot_reset(chat_history):\n",
    "    chat_history = [[None, \"안녕하세요, 헤이마트입니다. 상담을 도와드리겠습니다.\"]]\n",
    "    return chat_history\n",
    "\n",
    "#레이아웃\n",
    "with gr.Blocks(theme=gr.themes.Default()) as app:\n",
    "    with gr.Tab(\"상담봇\"):\n",
    "        #1\n",
    "        gr.Markdown(\n",
    "            value=\"\"\"\n",
    "            # <center>상담봇</center>\n",
    "            <center>헤이마트 상담봇입니다. 마트에서 판매하는 상품과 관련된 질문에 답변\n",
    "            드립니다.</center>\n",
    "            \"\"\")\n",
    "        #2\n",
    "        cb_chatbot = gr.Chatbot(\n",
    "            value=[[None, \"안녕하세요, 헤이마트입니다. 상담을 도와드리겠습니다.\"]],\n",
    "            show_label=False\n",
    "        )\n",
    "        with gr.Row():\n",
    "            #3\n",
    "            cb_user_input = gr.Text(\n",
    "                lines=1,\n",
    "                placeholder=\"입력 창\",\n",
    "                container=False,\n",
    "                scale=9\n",
    "            )\n",
    "            #4\n",
    "            cb_send_btn = gr.Button(\n",
    "                value=\"보내기\",\n",
    "                scale=1,\n",
    "                variant=\"primary\",\n",
    "                icon=\"https://cdn-icons-png.flaticon.com/128/12439/12439334.png\"\n",
    "            )\n",
    "        with gr.Row():\n",
    "            #5\n",
    "            gr.Button(value=\"↩ 되돌리기\").click(fn=counseling_bot_undo, inputs=cb_chatbot, outputs=cb_chatbot)\n",
    "            #6\n",
    "            gr.Button(value=\"🔄 초기화\").click(fn=counseling_bot_reset, inputs=cb_chatbot, outputs=cb_chatbot)\n",
    "            # 보내기1\n",
    "            cb_send_btn.click(fn=counseling_bot_chat, inputs=[cb_user_input, cb_chatbot], outputs=[cb_user_input, cb_chatbot])\n",
    "            # 보내기2\n",
    "            cb_user_input.submit(fn=counseling_bot_chat, inputs=[cb_user_input, cb_chatbot], outputs=[cb_user_input, cb_chatbot])\n",
    "\n",
    "    with gr.Tab(\"번역봇\"):\n",
    "        pass\n",
    "\n",
    "    with gr.Tab(\"소설봇\"):\n",
    "        pass\n",
    "\n",
    "# 실행\n",
    "app.launch()"
   ]
  },
  {
   "cell_type": "markdown",
   "metadata": {
    "id": "tXX047i4xr2u"
   },
   "source": [
    "# 번역봇 기능 추가"
   ]
  },
  {
   "cell_type": "code",
   "execution_count": 3,
   "metadata": {
    "id": "hy7htp2I3Hs-"
   },
   "outputs": [
    {
     "name": "stderr",
     "output_type": "stream",
     "text": [
      "C:\\Users\\bigpy\\AppData\\Local\\Temp\\ipykernel_27492\\256125197.py:58: UserWarning: You have not specified a value for the `type` parameter. Defaulting to the 'tuples' format for chatbot messages, but this is deprecated and will be removed in a future version of Gradio. Please set type='messages' instead, which uses openai-style dictionaries with 'role' and 'content' keys.\n",
      "  cb_chatbot = gr.Chatbot(\n"
     ]
    },
    {
     "name": "stdout",
     "output_type": "stream",
     "text": [
      "* Running on local URL:  http://127.0.0.1:7886\n",
      "* To create a public link, set `share=True` in `launch()`.\n"
     ]
    },
    {
     "data": {
      "text/html": [
       "<div><iframe src=\"http://127.0.0.1:7886/\" width=\"100%\" height=\"500\" allow=\"autoplay; camera; microphone; clipboard-read; clipboard-write;\" frameborder=\"0\" allowfullscreen></iframe></div>"
      ],
      "text/plain": [
       "<IPython.core.display.HTML object>"
      ]
     },
     "metadata": {},
     "output_type": "display_data"
    },
    {
     "data": {
      "text/plain": []
     },
     "execution_count": 3,
     "metadata": {},
     "output_type": "execute_result"
    },
    {
     "name": "stderr",
     "output_type": "stream",
     "text": [
      "Traceback (most recent call last):\n",
      "  File \"C:\\Users\\bigpy\\AppData\\Roaming\\Python\\Python312\\site-packages\\gradio\\queueing.py\", line 625, in process_events\n",
      "    response = await route_utils.call_process_api(\n",
      "               ^^^^^^^^^^^^^^^^^^^^^^^^^^^^^^^^^^^\n",
      "  File \"C:\\Users\\bigpy\\AppData\\Roaming\\Python\\Python312\\site-packages\\gradio\\route_utils.py\", line 322, in call_process_api\n",
      "    output = await app.get_blocks().process_api(\n",
      "             ^^^^^^^^^^^^^^^^^^^^^^^^^^^^^^^^^^^\n",
      "  File \"C:\\Users\\bigpy\\AppData\\Roaming\\Python\\Python312\\site-packages\\gradio\\blocks.py\", line 2220, in process_api\n",
      "    result = await self.call_function(\n",
      "             ^^^^^^^^^^^^^^^^^^^^^^^^^\n",
      "  File \"C:\\Users\\bigpy\\AppData\\Roaming\\Python\\Python312\\site-packages\\gradio\\blocks.py\", line 1731, in call_function\n",
      "    prediction = await anyio.to_thread.run_sync(  # type: ignore\n",
      "                 ^^^^^^^^^^^^^^^^^^^^^^^^^^^^^^^^^^^^^^^^^^^^^^^\n",
      "  File \"C:\\Users\\bigpy\\AppData\\Roaming\\Python\\Python312\\site-packages\\anyio\\to_thread.py\", line 56, in run_sync\n",
      "    return await get_async_backend().run_sync_in_worker_thread(\n",
      "           ^^^^^^^^^^^^^^^^^^^^^^^^^^^^^^^^^^^^^^^^^^^^^^^^^^^^\n",
      "  File \"C:\\Users\\bigpy\\AppData\\Roaming\\Python\\Python312\\site-packages\\anyio\\_backends\\_asyncio.py\", line 2470, in run_sync_in_worker_thread\n",
      "    return await future\n",
      "           ^^^^^^^^^^^^\n",
      "  File \"C:\\Users\\bigpy\\AppData\\Roaming\\Python\\Python312\\site-packages\\anyio\\_backends\\_asyncio.py\", line 967, in run\n",
      "    result = context.run(func, *args)\n",
      "             ^^^^^^^^^^^^^^^^^^^^^^^^\n",
      "  File \"C:\\Users\\bigpy\\AppData\\Roaming\\Python\\Python312\\site-packages\\gradio\\utils.py\", line 904, in wrapper\n",
      "    response = f(*args, **kwargs)\n",
      "               ^^^^^^^^^^^^^^^^^^\n",
      "  File \"C:\\Users\\bigpy\\AppData\\Local\\Temp\\ipykernel_27492\\256125197.py\", line 8, in counseling_bot_chat\n",
      "    completion = client.chat.completions.create(\n",
      "                 ^^^^^^\n",
      "NameError: name 'client' is not defined\n"
     ]
    }
   ],
   "source": [
    "import gradio as gr\n",
    "\n",
    "# 상담봇\n",
    "def counseling_bot_chat(message, chat_history):\n",
    "    if message == \"\":\n",
    "        return \"\", chat_history\n",
    "    else:\n",
    "        completion = client.chat.completions.create(\n",
    "            model=\"gpt-3.5-turbo\",\n",
    "            messages=[\n",
    "                {\"role\": \"system\", \"content\": \"당신은 헤이마트의 상담원입니다. 마트 상품과 관련되지 않은 질문에는 정중히 거절하세요.\"},\n",
    "                {\"role\": \"user\", \"content\": message}\n",
    "            ])\n",
    "        chat_history.append([message, completion.choices[0].message.content])\n",
    "        return \"\", chat_history\n",
    "\n",
    "# 상담봇 - 되돌리기\n",
    "def counseling_bot_undo(chat_history):\n",
    "    if len(chat_history) > 1:\n",
    "        chat_history.pop()\n",
    "    return chat_history\n",
    "\n",
    "# 상담봇 - 초기화\n",
    "def counseling_bot_reset(chat_history):\n",
    "    chat_history = [[None, \"안녕하세요, 헤이마트입니다. 상담을 도와드리겠습니다.\"]]\n",
    "    return chat_history\n",
    "\n",
    "# 번역봇\n",
    "def translate_bot(output_conditions, output_language, input_text):\n",
    "    if input_text == \"\":\n",
    "        return \"\"\n",
    "    else:\n",
    "        if output_conditions == \"\":\n",
    "            output_conditions = \"\"\n",
    "        else:\n",
    "            output_conditions = \"번역할 때의 조건은 다음과 같습니다. \" + output_conditions\n",
    "\n",
    "        completion = client.chat.completions.create(\n",
    "            model=\"gpt-3.5-turbo\",\n",
    "            messages=[\n",
    "                {\"role\": \"system\", \"content\": \"당신은 번역가입니다. 입력한 언어를 다른 설명없이 곧바로 {0}로 번역해서 알려 주세요. 번역이 불가능한 언어라면 번역이 불가능하다고 말한 후 그 이유를 설명해 주세요. {1}\".format(output_language, output_conditions)},\n",
    "                {\"role\": \"user\", \"content\": input_text}\n",
    "            ])\n",
    "\n",
    "        return completion.choices[0].message.content\n",
    "\n",
    "#레이아웃\n",
    "with gr.Blocks(theme=gr.themes.Default()) as app:\n",
    "    with gr.Tab(\"상담봇\"):\n",
    "        #1\n",
    "        gr.Markdown(\n",
    "            value=\"\"\"\n",
    "            # <center>상담봇</center>\n",
    "            <center>헤이마트 상담봇입니다. 마트에서 판매하는 상품과 관련된 질문에 답변\n",
    "            드립니다.</center>\n",
    "            \"\"\")\n",
    "        #2\n",
    "        cb_chatbot = gr.Chatbot(\n",
    "            value=[[None, \"안녕하세요, 헤이마트입니다. 상담을 도와드리겠습니다.\"]],\n",
    "            show_label=False\n",
    "        )\n",
    "        with gr.Row():\n",
    "            #3\n",
    "            cb_user_input = gr.Text(\n",
    "                lines=1,\n",
    "                placeholder=\"입력 창\",\n",
    "                container=False,\n",
    "                scale=9\n",
    "            )\n",
    "            #4\n",
    "            cb_send_btn = gr.Button(\n",
    "                value=\"보내기\",\n",
    "                scale=1,\n",
    "                variant=\"primary\",\n",
    "                icon=\"https://cdn-icons-png.flaticon.com/128/12439/12439334.png\"\n",
    "            )\n",
    "        with gr.Row():\n",
    "            #5\n",
    "            gr.Button(value=\"↩ 되돌리기\").click(fn=counseling_bot_undo, inputs=cb_chatbot, outputs=cb_chatbot)\n",
    "            #6\n",
    "            gr.Button(value=\"🔄 초기화\").click(fn=counseling_bot_reset, inputs=cb_chatbot, outputs=cb_chatbot)\n",
    "            # 보내기1\n",
    "            cb_send_btn.click(fn=counseling_bot_chat, inputs=[cb_user_input, cb_chatbot], outputs=[cb_user_input, cb_chatbot])\n",
    "            # 보내기2\n",
    "            cb_user_input.submit(fn=counseling_bot_chat, inputs=[cb_user_input, cb_chatbot], outputs=[cb_user_input, cb_chatbot])\n",
    "\n",
    "    with gr.Tab(\"번역봇\"):\n",
    "        #1\n",
    "        gr.Markdown(\n",
    "            value=\"\"\"\n",
    "            # <center>번역봇</center>\n",
    "            <center>다국어 번역봇입니다.</center>\n",
    "            \"\"\")\n",
    "        with gr.Row():\n",
    "            #2\n",
    "            tb_output_conditions = gr.Text(\n",
    "                label=\"번역 조건\",\n",
    "                placeholder=\"예시: 자연스럽게\",\n",
    "                lines=1,\n",
    "                max_lines=3\n",
    "            )\n",
    "            #3\n",
    "            tb_output_language = gr.Dropdown(\n",
    "                label=\"출력 언어\",\n",
    "                choices=[\"한국어\", \"영어\", \"일본어\", \"중국어\"],\n",
    "                value=\"한국어\",\n",
    "                allow_custom_value=True,\n",
    "                interactive=True\n",
    "            )\n",
    "        #4\n",
    "        tb_submit = gr.Button(\n",
    "            value=\"번역하기\",\n",
    "            variant=\"primary\"\n",
    "        )\n",
    "        with gr.Row():\n",
    "            #5\n",
    "            tb_input_text = gr.Text(\n",
    "                placeholder=\"번역할 내용을 적어주세요.\",\n",
    "                lines=10,\n",
    "                max_lines=20,\n",
    "                show_copy_button=True,\n",
    "                label=\"\"\n",
    "            )\n",
    "            #6\n",
    "            tb_output_text = gr.Text(\n",
    "                lines=10,\n",
    "                max_lines=20,\n",
    "                show_copy_button=True,\n",
    "                label=\"\",\n",
    "                interactive=False\n",
    "            )\n",
    "        # 번역봇 내용 보내기\n",
    "        tb_submit.click(\n",
    "            fn=translate_bot,\n",
    "            inputs=[tb_output_conditions,\n",
    "                tb_output_language,\n",
    "                tb_input_text],\n",
    "            outputs=tb_output_text\n",
    "        )\n",
    "\n",
    "    with gr.Tab(\"소설봇\"):\n",
    "        pass\n",
    "\n",
    "# 실행\n",
    "app.launch()"
   ]
  },
  {
   "cell_type": "markdown",
   "metadata": {
    "id": "5I1ZRlTBxvhl"
   },
   "source": [
    "# 소설봇 기능 추가"
   ]
  },
  {
   "cell_type": "code",
   "execution_count": 5,
   "metadata": {
    "colab": {
     "base_uri": "https://localhost:8080/",
     "height": 631
    },
    "executionInfo": {
     "elapsed": 1549,
     "status": "ok",
     "timestamp": 1708878039038,
     "user": {
      "displayName": "Altemion",
      "userId": "06467421994166200677"
     },
     "user_tz": -540
    },
    "id": "ql8WWgea04Gz",
    "outputId": "ab939532-e93f-439b-dfd8-65ffc1d46aa7"
   },
   "outputs": [
    {
     "name": "stderr",
     "output_type": "stream",
     "text": [
      "C:\\Users\\bigpy\\AppData\\Local\\Temp\\ipykernel_27492\\1680920268.py:69: UserWarning: You have not specified a value for the `type` parameter. Defaulting to the 'tuples' format for chatbot messages, but this is deprecated and will be removed in a future version of Gradio. Please set type='messages' instead, which uses openai-style dictionaries with 'role' and 'content' keys.\n",
      "  cb_chatbot = gr.Chatbot(\n"
     ]
    },
    {
     "name": "stdout",
     "output_type": "stream",
     "text": [
      "* Running on local URL:  http://127.0.0.1:7887\n",
      "* To create a public link, set `share=True` in `launch()`.\n"
     ]
    },
    {
     "data": {
      "text/html": [
       "<div><iframe src=\"http://127.0.0.1:7887/\" width=\"100%\" height=\"500\" allow=\"autoplay; camera; microphone; clipboard-read; clipboard-write;\" frameborder=\"0\" allowfullscreen></iframe></div>"
      ],
      "text/plain": [
       "<IPython.core.display.HTML object>"
      ]
     },
     "metadata": {},
     "output_type": "display_data"
    },
    {
     "data": {
      "text/plain": []
     },
     "execution_count": 5,
     "metadata": {},
     "output_type": "execute_result"
    }
   ],
   "source": [
    "import gradio as gr\n",
    "\n",
    "# 상담봇\n",
    "def counseling_bot_chat(message, chat_history):\n",
    "    if message == \"\":\n",
    "        return \"\", chat_history\n",
    "    else:\n",
    "        completion = client.chat.completions.create(\n",
    "            model=\"gpt-3.5-turbo\",\n",
    "            messages=[\n",
    "                {\"role\": \"system\", \"content\": \"당신은 헤이마트의 상담원입니다. 마트 상품과 관련되지 않은 질문에는 정중히 거절하세요.\"},\n",
    "                {\"role\": \"user\", \"content\": message}\n",
    "            ])\n",
    "        chat_history.append([message, completion.choices[0].message.content])\n",
    "        return \"\", chat_history\n",
    "\n",
    "# 상담봇 - 되돌리기\n",
    "def counseling_bot_undo(chat_history):\n",
    "    if len(chat_history) > 1:\n",
    "        chat_history.pop()\n",
    "    return chat_history\n",
    "\n",
    "# 상담봇 - 초기화\n",
    "def counseling_bot_reset(chat_history):\n",
    "    chat_history = [[None, \"안녕하세요, 헤이마트입니다. 상담을 도와드리겠습니다.\"]]\n",
    "    return chat_history\n",
    "\n",
    "# 번역봇\n",
    "def translate_bot(output_conditions, output_language, input_text):\n",
    "    if input_text == \"\":\n",
    "        return \"\"\n",
    "    else:\n",
    "        if output_conditions == \"\":\n",
    "            output_conditions = \"\"\n",
    "        else:\n",
    "            output_conditions = \"번역할 때의 조건은 다음과 같습니다. \" + output_conditions\n",
    "\n",
    "        completion = client.chat.completions.create(\n",
    "            model=\"gpt-3.5-turbo\",\n",
    "            messages=[\n",
    "                {\"role\": \"system\", \"content\": \"당신은 번역가입니다. 입력한 언어를 다른 설명없이 곧바로 {0}로 번역해서 알려 주세요. 번역이 불가능한 언어라면 번역이 불가능하다고 말한 후 그 이유를 설명해 주세요. {1}\".format(output_language, output_conditions)},\n",
    "                {\"role\": \"user\", \"content\": input_text}\n",
    "            ])\n",
    "\n",
    "        return completion.choices[0].message.content\n",
    "\n",
    "# 소설봇\n",
    "def novel_bot(model, temperature, detail):\n",
    "    completion = client.chat.completions.create(\n",
    "        model=model,\n",
    "        temperature=temperature,\n",
    "        messages=[\n",
    "            {\"role\": \"system\", \"content\": \"당신은 소설가입니다. 요청하는 조건에 맞춰 소설을 작성해주세요.\"},\n",
    "            {\"role\": \"user\", \"content\": detail}\n",
    "        ])\n",
    "    return completion.choices[0].message.content\n",
    "\n",
    "#레이아웃\n",
    "with gr.Blocks(theme=gr.themes.Default()) as app:\n",
    "    with gr.Tab(\"상담봇\"):\n",
    "        #1\n",
    "        gr.Markdown(\n",
    "            value=\"\"\"\n",
    "            # <center>상담봇</center>\n",
    "            <center>헤이마트 상담봇입니다. 마트에서 판매하는 상품과 관련된 질문에 답변\n",
    "            드립니다.</center>\n",
    "            \"\"\")\n",
    "        #2\n",
    "        cb_chatbot = gr.Chatbot(\n",
    "            value=[[None, \"안녕하세요, 헤이마트입니다. 상담을 도와드리겠습니다.\"]],\n",
    "            show_label=False\n",
    "        )\n",
    "        with gr.Row():\n",
    "            #3\n",
    "            cb_user_input = gr.Text(\n",
    "                lines=1,\n",
    "                placeholder=\"입력 창\",\n",
    "                container=False,\n",
    "                scale=9\n",
    "            )\n",
    "            #4\n",
    "            cb_send_btn = gr.Button(\n",
    "                value=\"보내기\",\n",
    "                scale=1,\n",
    "                variant=\"primary\",\n",
    "                icon=\"https://cdn-icons-png.flaticon.com/128/12439/12439334.png\"\n",
    "            )\n",
    "        with gr.Row():\n",
    "            #5\n",
    "            gr.Button(value=\"↩ 되돌리기\").click(fn=counseling_bot_undo, inputs=cb_chatbot, outputs=cb_chatbot)\n",
    "            #6\n",
    "            gr.Button(value=\"🔄 초기화\").click(fn=counseling_bot_reset, inputs=cb_chatbot, outputs=cb_chatbot)\n",
    "            # 보내기1\n",
    "            cb_send_btn.click(fn=counseling_bot_chat, inputs=[cb_user_input, cb_chatbot], outputs=[cb_user_input, cb_chatbot])\n",
    "            # 보내기2\n",
    "            cb_user_input.submit(fn=counseling_bot_chat, inputs=[cb_user_input, cb_chatbot], outputs=[cb_user_input, cb_chatbot])\n",
    "\n",
    "    with gr.Tab(\"번역봇\"):\n",
    "        #1\n",
    "        gr.Markdown(\n",
    "            value=\"\"\"\n",
    "            # <center>번역봇</center>\n",
    "            <center>다국어 번역봇입니다.</center>\n",
    "            \"\"\")\n",
    "        with gr.Row():\n",
    "            #2\n",
    "            tb_output_conditions = gr.Text(\n",
    "                label=\"번역 조건\",\n",
    "                placeholder=\"예시: 자연스럽게\",\n",
    "                lines=1,\n",
    "                max_lines=3\n",
    "            )\n",
    "            #3\n",
    "            tb_output_language = gr.Dropdown(\n",
    "                label=\"출력 언어\",\n",
    "                choices=[\"한국어\", \"영어\", \"일본어\", \"중국어\"],\n",
    "                value=\"한국어\",\n",
    "                allow_custom_value=True,\n",
    "                interactive=True\n",
    "            )\n",
    "        #4\n",
    "        tb_submit = gr.Button(\n",
    "            value=\"번역하기\",\n",
    "            variant=\"primary\"\n",
    "        )\n",
    "        with gr.Row():\n",
    "            #5\n",
    "            tb_input_text = gr.Text(\n",
    "                placeholder=\"번역할 내용을 적어주세요.\",\n",
    "                lines=10,\n",
    "                max_lines=20,\n",
    "                show_copy_button=True,\n",
    "                label=\"\"\n",
    "            )\n",
    "            #6\n",
    "            tb_output_text = gr.Text(\n",
    "                lines=10,\n",
    "                max_lines=20,\n",
    "                show_copy_button=True,\n",
    "                label=\"\",\n",
    "                interactive=False\n",
    "            )\n",
    "        # 번역봇 내용 보내기\n",
    "        tb_submit.click(\n",
    "            fn=translate_bot,\n",
    "            inputs=[tb_output_conditions,\n",
    "                tb_output_language,\n",
    "                tb_input_text],\n",
    "            outputs=tb_output_text\n",
    "        )\n",
    "\n",
    "    with gr.Tab(\"소설봇\"):\n",
    "        #1\n",
    "        gr.Markdown(\n",
    "            value=\"\"\"\n",
    "            # <center>소설봇</center>\n",
    "            <center>소설을 생성해주는 봇입니다.</center>\n",
    "            \"\"\")\n",
    "        with gr.Accordion(label=\"사용자 설정\"):\n",
    "            with gr.Row():\n",
    "                with gr.Column(scale=1):\n",
    "                    #2\n",
    "                    nb_model = gr.Dropdown(\n",
    "                        label=\"모델 선택\",\n",
    "                        choices=[\"gpt-3.5-turbo\", \"gpt-3.5-turbo-16k\", \"gpt-4\", \"gpt-4-32k\", \"gpt-4-1106-preview\"],\n",
    "                        value=\"gpt-4-1106-preview\",\n",
    "                        interactive=True\n",
    "                    )\n",
    "                    #3\n",
    "                    nb_temperature = gr.Slider(\n",
    "                        label=\"창의성\",\n",
    "                        info=\"숫자가 높을 수록 창의적\",\n",
    "                        minimum=0,\n",
    "                        maximum=2,\n",
    "                        step=0.1,\n",
    "                        value=1,\n",
    "                        interactive=True\n",
    "                    )\n",
    "                #4\n",
    "                nb_detail = gr.Text(\n",
    "                    container=False,\n",
    "                    placeholder=\"소설의 세부적인 설정을 작성합니다.\",\n",
    "                    lines=8,\n",
    "                    scale=4\n",
    "                )\n",
    "        #5\n",
    "        nb_submit = gr.Button(\n",
    "            value=\"생성하기\",\n",
    "            variant=\"primary\"\n",
    "        )\n",
    "        #6\n",
    "        nb_output = gr.Text(\n",
    "            label=\"\",\n",
    "            placeholder=\"이곳에 소설의 내용이 출력됩니다.\",\n",
    "            lines=10,\n",
    "            max_lines=200,\n",
    "            show_copy_button=True\n",
    "        )\n",
    "        # 보내기\n",
    "        nb_submit.click(\n",
    "            fn=novel_bot,\n",
    "            inputs=[nb_model, nb_temperature, nb_detail],\n",
    "            outputs=nb_output\n",
    "        )\n",
    "\n",
    "# 실행\n",
    "app.launch()"
   ]
  },
  {
   "cell_type": "code",
   "execution_count": null,
   "metadata": {},
   "outputs": [],
   "source": []
  }
 ],
 "metadata": {
  "colab": {
   "authorship_tag": "ABX9TyNprad94jxz8btCc8CTbq6o",
   "provenance": [],
   "toc_visible": true
  },
  "kernelspec": {
   "display_name": "Python 3 (ipykernel)",
   "language": "python",
   "name": "python3"
  },
  "language_info": {
   "codemirror_mode": {
    "name": "ipython",
    "version": 3
   },
   "file_extension": ".py",
   "mimetype": "text/x-python",
   "name": "python",
   "nbconvert_exporter": "python",
   "pygments_lexer": "ipython3",
   "version": "3.12.7"
  }
 },
 "nbformat": 4,
 "nbformat_minor": 4
}
