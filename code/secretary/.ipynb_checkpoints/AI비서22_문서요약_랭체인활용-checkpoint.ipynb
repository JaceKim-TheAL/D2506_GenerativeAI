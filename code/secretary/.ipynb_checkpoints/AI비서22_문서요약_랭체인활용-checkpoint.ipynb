{
 "cells": [
  {
   "cell_type": "markdown",
   "metadata": {},
   "source": [
    "# 문서요약 프롬프트 제작\n",
    "\n",
    "### 랭체인(LangChaing)을 활용"
   ]
  },
  {
   "cell_type": "markdown",
   "metadata": {},
   "source": [
    "- 문서 요약 방식에는 `StuffDocumentsChain 방식`과 `MapReduceDocumentsChain 방식` 이 있다\n",
    "- 큰 문서를 보다 작은 크기로 나누어 각각의 요약을 진행한 후에 최종적으로 합쳐서 요약을 진행한다.\n",
    "<br/>  `[장점]` : 큰 문서도 요약이 가능\n",
    "<br/>  `[단점]` : 많은 API 호출이 필요"
   ]
  },
  {
   "cell_type": "markdown",
   "metadata": {},
   "source": [
    "#### 맵리듀스(MapReduce) 방식을 이용한 PDF 문서 요약 방법\n",
    " ❶ 문서 내용 로드 <br/>\n",
    " ❷ 문서 내용 분할 <br/>\n",
    " ❸ 분할 내용 각각 요약 실행 <br/>\n",
    " ❹ 각 묺서의 요약본 통합 실행 <br/>\n",
    " ❺ 최종 결과 통합 체인 생성 <br/>\n",
    "\n",
    "---"
   ]
  },
  {
   "cell_type": "markdown",
   "metadata": {},
   "source": [
    "1️⃣ 문서 내용 로드 <br/>\n",
    "2️⃣ 문서 내용 분할 <br/>\n",
    "3️⃣ 분할 내용 각각 요약 실행 <br/>\n",
    "4️⃣ 각 묺서의 요약본 통합 실행 <br/>\n",
    "5️⃣ 최종 결과 통합 체인 생성 <br/>\n"
   ]
  },
  {
   "cell_type": "code",
   "execution_count": null,
   "metadata": {
    "colab": {
     "base_uri": "https://localhost:8080/"
    },
    "executionInfo": {
     "elapsed": 8429,
     "status": "ok",
     "timestamp": 1708846433181,
     "user": {
      "displayName": "윤택한",
      "userId": "01682356284474851364"
     },
     "user_tz": -540
    },
    "id": "fo0u9wR8Kj8d",
    "outputId": "c921f4c3-9e40-423f-81f8-68c82474dd76"
   },
   "outputs": [
    {
     "name": "stdout",
     "output_type": "stream",
     "text": [
      "\u001b[?25l     \u001b[90m━━━━━━━━━━━━━━━━━━━━━━━━━━━━━━━━━━━━━━━━\u001b[0m \u001b[32m0.0/1.8 MB\u001b[0m \u001b[31m?\u001b[0m eta \u001b[36m-:--:--\u001b[0m\r",
      "\u001b[2K     \u001b[91m━━\u001b[0m\u001b[91m╸\u001b[0m\u001b[90m━━━━━━━━━━━━━━━━━━━━━━━━━━━━━━━━━━━━━\u001b[0m \u001b[32m0.1/1.8 MB\u001b[0m \u001b[31m3.6 MB/s\u001b[0m eta \u001b[36m0:00:01\u001b[0m\r",
      "\u001b[2K     \u001b[91m━━━━━━━━━━━━━━━━━━━━━━\u001b[0m\u001b[91m╸\u001b[0m\u001b[90m━━━━━━━━━━━━━━━━━\u001b[0m \u001b[32m1.0/1.8 MB\u001b[0m \u001b[31m14.7 MB/s\u001b[0m eta \u001b[36m0:00:01\u001b[0m\r",
      "\u001b[2K     \u001b[91m━━━━━━━━━━━━━━━━━━━━━━━━━━━━━━━━━━━━━━━\u001b[0m\u001b[91m╸\u001b[0m \u001b[32m1.8/1.8 MB\u001b[0m \u001b[31m21.1 MB/s\u001b[0m eta \u001b[36m0:00:01\u001b[0m\r",
      "\u001b[2K     \u001b[90m━━━━━━━━━━━━━━━━━━━━━━━━━━━━━━━━━━━━━━━━\u001b[0m \u001b[32m1.8/1.8 MB\u001b[0m \u001b[31m16.3 MB/s\u001b[0m eta \u001b[36m0:00:00\u001b[0m\n",
      "\u001b[?25h"
     ]
    }
   ],
   "source": [
    "!pip install -qq openai langchain pypdf tiktoken"
   ]
  },
  {
   "cell_type": "markdown",
   "metadata": {
    "id": "ytL8RBuFL7eg"
   },
   "source": [
    "1️⃣ 문서 내용 로드 <br/>\n",
    "- PDF로 되어 있는 문서 내용을 로드하면 각 문서가 페이지 번호와 페이지 내용을 포함한 내용을 얻게 된다.\n",
    "- 우선 가장 첫 번째 페이지 내용을 읽어 들ㅇ여와 일부분만 출력해 보자"
   ]
  },
  {
   "cell_type": "code",
   "execution_count": null,
   "metadata": {
    "id": "9Jh9t8ZmK0RV"
   },
   "outputs": [],
   "source": [
    "from langchain.document_loaders import PyPDFLoader\n",
    "def pdf_loader(pdf_path):\n",
    "    loader = PyPDFLoader(pdf_path)\n",
    "    pdf_doc = loader.load()\n",
    "    return pdf_doc"
   ]
  },
  {
   "cell_type": "code",
   "execution_count": null,
   "metadata": {
    "colab": {
     "base_uri": "https://localhost:8080/"
    },
    "executionInfo": {
     "elapsed": 728,
     "status": "ok",
     "timestamp": 1708846382438,
     "user": {
      "displayName": "윤택한",
      "userId": "01682356284474851364"
     },
     "user_tz": -540
    },
    "id": "nWENtfq_LJmR",
    "outputId": "0032f34f-8379-4707-b829-416a7f8e4d71"
   },
   "outputs": [
    {
     "name": "stdout",
     "output_type": "stream",
     "text": [
      "안녕하세요\n",
      "!\n",
      "헤이마트는\n",
      "신선한\n",
      "과일과\n",
      "다양한\n",
      "상품을\n",
      "판매하는\n",
      "동네\n",
      "마트입니다\n",
      ".\n",
      "고품질의\n",
      "제품과\n",
      "풍부한\n",
      "다양성을\n",
      "자랑하며\n",
      ",\n",
      "지역\n",
      "고객들에게\n",
      "최상의\n",
      "서비스를\n",
      "제공하기\n",
      "위해\n",
      "노력하고\n",
      "있습니다\n",
      ".\n",
      "우리\n",
      "마트에서는\n",
      "신선한\n",
      "과일뿐만\n",
      "아니라\n",
      "식료품\n",
      ",\n",
      "생활용품\n",
      ",\n",
      "주방용품\n",
      "등\n",
      "다양한\n",
      "상품을\n",
      "찾아보실\n",
      "수\n",
      "있습니다\n",
      ".\n",
      "고객들이\n",
      "편리하게\n",
      "쇼핑을\n",
      "즐길\n",
      "수\n",
      "있도록\n",
      "다양한\n",
      "\n"
     ]
    }
   ],
   "source": [
    "pdf_path = \"hey_pdf.pdf\"\n",
    "pages_content = pdf_loader(pdf_path)\n",
    "print(pages_content[0].page_content[:200])"
   ]
  },
  {
   "cell_type": "markdown",
   "metadata": {
    "id": "lVOHjJemMFYY"
   },
   "source": [
    "2️⃣ 문서 내용 분할 <br/>\n",
    "- 문서 내용이 길 경우, 문서 전체 내용을 넣을 수 없기 때문에 각각의 문서를 분할하는 작업을 진행해야 한다.\n",
    "- 문서 불할은 앞서 배운 `RecursiveCharacterTextSplitter`를 이용해서 3,000개 정도의 chunk_size로 분할하여 진행해 본다\n",
    "<br/><br/>\n",
    "\n",
    "☑ RecursiveCharacterTextSplitter <br/>\n",
    "- LangChain 프레임워크에서 제공하는 텍스트 분할기(Text Splitter) 중 하나로, 긴 텍스트를 의미 단위로 잘게 나누기 위해 사용\n",
    "- 특히 문서 검색, 임베딩, 요약 같은 LLM 기반 작업에서 텍스트를 적절한 크기로 나누는 데 매우 유용하다\n"
   ]
  },
  {
   "cell_type": "code",
   "execution_count": null,
   "metadata": {
    "colab": {
     "base_uri": "https://localhost:8080/"
    },
    "executionInfo": {
     "elapsed": 1816,
     "status": "ok",
     "timestamp": 1708846438112,
     "user": {
      "displayName": "윤택한",
      "userId": "01682356284474851364"
     },
     "user_tz": -540
    },
    "id": "QkS3XpuJLnfT",
    "outputId": "125527f9-d276-43ee-aa44-4056d0714ec0"
   },
   "outputs": [
    {
     "name": "stdout",
     "output_type": "stream",
     "text": [
      "분할된 문서의 개수는:  2\n"
     ]
    }
   ],
   "source": [
    "from langchain.text_splitter import RecursiveCharacterTextSplitter\n",
    "\n",
    "# 스플리터 설정\n",
    "text_splitter = RecursiveCharacterTextSplitter.from_tiktoken_encoder(\n",
    "    chunk_size=3000,\n",
    "    chunk_overlap=0,\n",
    ")\n",
    "\n",
    "# pages_content 내용 분할\n",
    "split_docs = text_splitter.split_documents(pages_content)\n",
    "\n",
    "# 분할된 문서의 수 확인\n",
    "print(\"분할된 문서의 개수는: \", len(split_docs))"
   ]
  },
  {
   "cell_type": "markdown",
   "metadata": {
    "id": "Y4N0z_WpMIrk"
   },
   "source": [
    "3️⃣ 분할 내용 각각 요약 실행 <br/>\n",
    "- 현재 분할된 문서는 2개로, 이 분할된 문서를 각각 요약해야 한다\n",
    "- 이렇게 분할된 문서를 요약하는 과정을 `map`이라고 하고, 요약본을 통합하는 과정을 `reduce`라고 한다.\n",
    "- 프롬프트를 설정하여 각각의 map 과정에서 사용될 템플릿을 설정한다\n",
    "- 그리고 문서 내용이 길 수 있기 때문에 모델을 `turbo-16k`로 설정하여 진행한다"
   ]
  },
  {
   "cell_type": "code",
   "execution_count": null,
   "metadata": {
    "id": "jD9yBdLcLsP0"
   },
   "outputs": [],
   "source": [
    "## 각각의 문서에 대한 요약 실행\n",
    "from langchain.prompts import PromptTemplate\n",
    "from langchain.chat_models import ChatOpenAI\n",
    "from langchain.chains import LLMChain\n",
    "from openai import OpenAI\n",
    "from google.colab import userdata\n",
    "import os\n",
    "os.environ[\"OPENAI_API_KEY\"] = userdata.get('OPENAI_API_KEY')\n",
    "\n",
    "# map template 설정, {pages_content} 분할된 내용이 입력\n",
    "map_template = \"\"\"다음은 문서 중 일부 내용입니다\n",
    "{pages_content}\n",
    "이 문서의 주요 내용을 요약해 주세요.\n",
    "\"\"\"\n",
    "\n",
    "# map 기본 프롬프트\n",
    "map_prompt = PromptTemplate.from_template(map_template)\n",
    "\n",
    "# 문서내용이 길 수 있기 때문에 model을 gpt-3.5-turbo-16k 설정\n",
    "llm = ChatOpenAI(temperature=0,\n",
    "                 model_name='gpt-3.5-turbo-16k')\n",
    "map_chain = LLMChain(llm=llm, prompt=map_prompt)\n",
    "\n",
    "# reduce 단계에서 처리할 프롬프트 정의\n",
    "reduce_template = \"\"\"다음은 문서 요약의 집합입니다:\n",
    "{summaries}\n",
    "이 내용을 바탕으로 통합된 문서 요약을 작성해 주세요.\n",
    "\"\"\"\n",
    "\n",
    "# Reduce 프롬프트\n",
    "reduce_prompt = PromptTemplate.from_template(reduce_template)\n",
    "\n",
    "# Reduce에서 수행할 LLMChain 정의\n",
    "reduce_chain = LLMChain(llm = llm, prompt = reduce_prompt)"
   ]
  },
  {
   "cell_type": "markdown",
   "metadata": {
    "id": "KiY4yHfIM10q"
   },
   "source": [
    "4️⃣ 각 묺서의 요약본 통합 실행 <br/>\n",
    "- 위에서 작성된 각각의 map_chain을 통합하는 과정이 필요 → `reduce 과정`\n",
    "- 통합할 때 역시 템플릿을 통해 프롬프트를 정의할 수 있다. "
   ]
  },
  {
   "cell_type": "code",
   "execution_count": null,
   "metadata": {
    "id": "2hD_-GTpMV6w"
   },
   "outputs": [],
   "source": [
    "from langchain.chains.combine_documents.stuff import StuffDocumentsChain\n",
    "from langchain.chains import ReduceDocumentsChain\n",
    "\n",
    "# 문서 목록 통합 체인 설정\n",
    "combine_doc_chain = StuffDocumentsChain(\n",
    "    llm_chain=reduce_chain,\n",
    "    document_variable_name=\"summaries\" # reduce 프롬프트에 대입되는 변수\n",
    ")\n",
    "\n",
    "# 분할된 문서를 순차적으로 reduce 처리\n",
    "reduce_doc_chain = ReduceDocumentsChain(\n",
    "    combine_documents_chain=combine_doc_chain,\n",
    "    collapse_documents_chain=combine_doc_chain,\n",
    "    token_max=4000,\n",
    ")"
   ]
  },
  {
   "cell_type": "markdown",
   "metadata": {},
   "source": [
    "- document_variable_name=\"summaries\" 는 {summaries}의 입력으로 받을 수 있도록 설정하였다.\n",
    "- reduce_doc_chain = ReduceDocumentsChain 는 순차적으로 reduce를 처리를 하게 된다. <br/>\n",
    "  이때 필요한 것은 통합 체인으로 combine_documents_chain=combine_doc_chain 으로 설정한다.\n",
    "- collapse_documents_chain 는 StuffDocumentsChain 의 컨텍스트를 초과할 수 있으므로 문서 축소를 해야 할 경우에 실행된다.\n",
    "- token_max 는 최대의 토큰 설정\n"
   ]
  },
  {
   "cell_type": "markdown",
   "metadata": {
    "id": "eSk6H4gEM_fe"
   },
   "source": [
    "5️⃣ 최종 결과 통합 체인 생성 <br/>\n",
    "- 마지막 통합 과정에서는 정의한 map 체인과 reduce 체인을 연결하고, <br/>\n",
    "  최종적으로 `MapReduceDocumentsChain`을 통해 각각의 객체를 통합할 수 있다."
   ]
  },
  {
   "cell_type": "code",
   "execution_count": null,
   "metadata": {
    "colab": {
     "base_uri": "https://localhost:8080/"
    },
    "executionInfo": {
     "elapsed": 25503,
     "status": "ok",
     "timestamp": 1708846943561,
     "user": {
      "displayName": "윤택한",
      "userId": "01682356284474851364"
     },
     "user_tz": -540
    },
    "id": "m0H4Se5lM-Er",
    "outputId": "d6a9b8d6-0b11-4e8f-c3e7-7cc7098cabd7"
   },
   "outputs": [
    {
     "name": "stdout",
     "output_type": "stream",
     "text": [
      "헤이마트는 고품질의 제품과 다양성을 자랑하며 지역 고객들에게 최상의 서비스를 제공하기 위해 노력하고 있습니다. 마트에서는 과일뿐만 아니라 식료품, 생활용품, 주방용품 등 다양한 상품을 찾아볼 수 있으며, 편리한 쇼핑을 즐길 수 있도록 다양한 브랜드와 제품을 선보이고 있습니다. 헤이마트는 고객들의 다양한 쇼핑 요구를 충족시키기 위해 노력하고 있으며, 항상 최상의 제품과 서비스를 제공하여 고객들에게 만족스러운 경험을 선사하는 것을 목표로 하고 있습니다. 또한, 고객들의 의견을 듣고 더 나은 서비스를 제공하기 위해 노력하고 있으며, 지역 사회와 함께 성장하며, 지역의 발전에 기여하기 위해 노력할 것을 약속합니다. 헤이마트에 항상 관심과 사랑을 주셔서 감사합니다.\n"
     ]
    }
   ],
   "source": [
    "from langchain.chains import MapReduceDocumentsChain\n",
    "\n",
    "# 최종 체인 연결\n",
    "final_chain = MapReduceDocumentsChain(\n",
    "    llm_chain=map_chain, # 각 문서 맵핑\n",
    "    reduce_documents_chain=reduce_doc_chain,\n",
    "    document_variable_name=\"pages_content\",\n",
    "    return_intermediate_steps=False,\n",
    ")\n",
    "\n",
    "# 최종 결과 실행\n",
    "result_summary = final_chain.run(split_docs)\n",
    "\n",
    "# 요약 결과 출력\n",
    "print(result_summary)"
   ]
  },
  {
   "cell_type": "markdown",
   "metadata": {},
   "source": [
    "- llm_chain=map_chain 에는 이전에 정의해 놓은 map 체인을 설정해야 한다.\n",
    "- reduce_documents_chain=reduce_doc_chain 에는 통합된 reduce 체인을 지정해야 한다.\n",
    "- document_variable_name=\"pages_content\" 는 각각의 분할된 문서명의 이름을 지정한 결과를 지정한다.\n",
    "- result_summary = final_chain.run(split_docs) 가 완성된 통합 체인을 run하게 되면 최종 요약 결과를 얻을 수 있다. "
   ]
  },
  {
   "cell_type": "code",
   "execution_count": null,
   "metadata": {},
   "outputs": [],
   "source": []
  }
 ],
 "metadata": {
  "colab": {
   "provenance": []
  },
  "kernelspec": {
   "display_name": "Python 3 (ipykernel)",
   "language": "python",
   "name": "python3"
  },
  "language_info": {
   "codemirror_mode": {
    "name": "ipython",
    "version": 3
   },
   "file_extension": ".py",
   "mimetype": "text/x-python",
   "name": "python",
   "nbconvert_exporter": "python",
   "pygments_lexer": "ipython3",
   "version": "3.12.7"
  }
 },
 "nbformat": 4,
 "nbformat_minor": 4
}
