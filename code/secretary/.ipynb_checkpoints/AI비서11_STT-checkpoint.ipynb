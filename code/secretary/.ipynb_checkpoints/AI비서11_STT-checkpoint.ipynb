{
 "cells": [
  {
   "cell_type": "markdown",
   "id": "dbab3fff-313a-41c1-af48-e4f2a2bd3837",
   "metadata": {},
   "source": [
    "# 음성 변환 기술 구현\n",
    "  \n",
    "### STT (Speech-to-Text)"
   ]
  },
  {
   "cell_type": "markdown",
   "id": "568dfd35-b99a-4f23-b4b0-7d1537a52432",
   "metadata": {},
   "source": [
    "• Oenai 설치"
   ]
  },
  {
   "cell_type": "code",
   "execution_count": null,
   "id": "97064782-ca25-48c6-98c8-f6655b18b8cd",
   "metadata": {},
   "outputs": [],
   "source": [
    "!pip install -qq --upgrade openai"
   ]
  },
  {
   "cell_type": "markdown",
   "id": "80d3d2a2-925f-4ef8-8fe2-2bf095ca0fe6",
   "metadata": {},
   "source": [
    "• API KEY 로드 및 실행"
   ]
  },
  {
   "cell_type": "code",
   "execution_count": null,
   "id": "820afa76-1056-4718-aec7-06b0a9e9c8df",
   "metadata": {},
   "outputs": [],
   "source": [
    "import os\n",
    "import getpass\n",
    "from openai import OpenAI\n",
    "\n",
    "try :\n",
    "    API_KEY = os.environ['API_KEY_OPENAI']\n",
    "except KeyError:\n",
    "    # os.environ[\"API_KEY_OPENAI\"] = \"OpenAI API키 입력\"\n",
    "    os.environ['API_KEY_OPENAI'] = getpass.getpass()\n",
    "    API_KEY = os.environ['API_KEY_OPENAI']\n"
   ]
  },
  {
   "cell_type": "code",
   "execution_count": null,
   "id": "99fbd448-a307-4944-9e02-11123d75ee6f",
   "metadata": {},
   "outputs": [],
   "source": [
    "client = OpenAI(api_key=API_KEY)\n",
    "speech_output_path = \"./files/hey_audio_1.mp3\" # 임의로 녹음한 음성 파일"
   ]
  },
  {
   "cell_type": "markdown",
   "id": "35088ca3-03b9-48e5-86e7-5ccc2cd1f957",
   "metadata": {},
   "source": [
    "녹음한 내용: \n",
    "```\n",
    "안녕하세요 오늘부터 3일간 헤이마트 행사 기간입니다\n",
    "```"
   ]
  },
  {
   "cell_type": "code",
   "execution_count": null,
   "id": "eb399a96-b373-4e8c-a707-71303f61361a",
   "metadata": {},
   "outputs": [],
   "source": []
  },
  {
   "cell_type": "code",
   "execution_count": null,
   "id": "2eaba397-6080-4a92-ac3d-9d85d5cf8d6f",
   "metadata": {},
   "outputs": [],
   "source": []
  },
  {
   "cell_type": "code",
   "execution_count": null,
   "id": "25d53a39-c56b-4acd-9639-c656bf899bcc",
   "metadata": {},
   "outputs": [],
   "source": []
  },
  {
   "cell_type": "code",
   "execution_count": null,
   "id": "9c66d7b0-ec6e-442c-9302-8f89cd5214e9",
   "metadata": {},
   "outputs": [],
   "source": []
  },
  {
   "cell_type": "code",
   "execution_count": null,
   "id": "ae1a20df-175f-45e8-88a2-d0653b48c64f",
   "metadata": {},
   "outputs": [],
   "source": []
  }
 ],
 "metadata": {
  "kernelspec": {
   "display_name": "Python 3 (ipykernel)",
   "language": "python",
   "name": "python3"
  },
  "language_info": {
   "codemirror_mode": {
    "name": "ipython",
    "version": 3
   },
   "file_extension": ".py",
   "mimetype": "text/x-python",
   "name": "python",
   "nbconvert_exporter": "python",
   "pygments_lexer": "ipython3",
   "version": "3.12.7"
  }
 },
 "nbformat": 4,
 "nbformat_minor": 5
}
