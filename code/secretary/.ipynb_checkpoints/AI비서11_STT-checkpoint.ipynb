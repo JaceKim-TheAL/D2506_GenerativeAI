{
 "cells": [
  {
   "cell_type": "markdown",
   "id": "dbab3fff-313a-41c1-af48-e4f2a2bd3837",
   "metadata": {},
   "source": [
    "# 음성 변환 기술 구현\n",
    "  \n",
    "### STT (Speech-to-Text)"
   ]
  },
  {
   "cell_type": "markdown",
   "id": "568dfd35-b99a-4f23-b4b0-7d1537a52432",
   "metadata": {},
   "source": [
    "• Oenai 설치"
   ]
  },
  {
   "cell_type": "code",
   "execution_count": null,
   "id": "97064782-ca25-48c6-98c8-f6655b18b8cd",
   "metadata": {},
   "outputs": [],
   "source": [
    "!pip install -qq --upgrade openai"
   ]
  },
  {
   "cell_type": "markdown",
   "id": "80d3d2a2-925f-4ef8-8fe2-2bf095ca0fe6",
   "metadata": {},
   "source": [
    "• API KEY 로드 및 실행"
   ]
  },
  {
   "cell_type": "code",
   "execution_count": null,
   "id": "820afa76-1056-4718-aec7-06b0a9e9c8df",
   "metadata": {},
   "outputs": [],
   "source": [
    "import os\n",
    "import getpass\n",
    "from openai import OpenAI\n",
    "\n",
    "try :\n",
    "    API_KEY = os.environ['API_KEY_OPENAI']\n",
    "except KeyError:\n",
    "    # os.environ[\"API_KEY_OPENAI\"] = \"OpenAI API키 입력\"\n",
    "    os.environ['API_KEY_OPENAI'] = getpass.getpass()\n",
    "    API_KEY = os.environ['API_KEY_OPENAI']\n"
   ]
  },
  {
   "cell_type": "code",
   "execution_count": null,
   "id": "99fbd448-a307-4944-9e02-11123d75ee6f",
   "metadata": {},
   "outputs": [],
   "source": [
    "client = OpenAI(api_key=API_KEY)\n",
    "speech_output_path = \"./files/hey_audio_1.mp3\" # 임의로 녹음한 음성 파일"
   ]
  },
  {
   "cell_type": "markdown",
   "id": "35088ca3-03b9-48e5-86e7-5ccc2cd1f957",
   "metadata": {},
   "source": [
    "녹음한 내용: \n",
    "```\n",
    "안녕하세요 오늘부터 3일간 헤이마트 행사 기간입니다\n",
    "```"
   ]
  },
  {
   "cell_type": "code",
   "execution_count": null,
   "id": "eb399a96-b373-4e8c-a707-71303f61361a",
   "metadata": {},
   "outputs": [],
   "source": [
    "audio_file= open(speech_output_path, \"rb\")\n",
    "transcript = client.audio.transcriptions.create(\n",
    "model=\"whisper-1\",\n",
    "file=audio_file\n",
    ")\n",
    "print(transcript.text)"
   ]
  },
  {
   "cell_type": "markdown",
   "id": "21e53138-58e4-44d2-bdc3-ee6743f70ffe",
   "metadata": {},
   "source": [
    "• 위스퍼 모델 직접 실행"
   ]
  },
  {
   "cell_type": "code",
   "execution_count": null,
   "id": "25d53a39-c56b-4acd-9639-c656bf899bcc",
   "metadata": {},
   "outputs": [],
   "source": [
    "!pip install --upgrade git+https://github.com/huggingface/transformers.git accelerate"
   ]
  },
  {
   "cell_type": "markdown",
   "id": "21b1cafe-0282-46dd-8b9d-dbed99e2afd3",
   "metadata": {},
   "source": [
    "• 모델 설정 및 함수 실행"
   ]
  },
  {
   "cell_type": "code",
   "execution_count": null,
   "id": "ae1a20df-175f-45e8-88a2-d0653b48c64f",
   "metadata": {},
   "outputs": [],
   "source": [
    "import torch\n",
    "from transformers import AutoModelForSpeechSeq2Seq, AutoProcessor, pipeline\n",
    "\n",
    "device = \"cuda:0\" if torch.cuda.is_available() else \"cpu\"\n",
    "torch_dtype = torch.float16 if torch.cuda.is_available() else torch.float32\n",
    "model_id = \"openai/whisper-large-v3\""
   ]
  },
  {
   "cell_type": "code",
   "execution_count": null,
   "id": "bb9a3bde-21d1-4b0c-a80c-e92850bf94ed",
   "metadata": {},
   "outputs": [],
   "source": [
    "model = AutoModelForSpeechSeq2Seq.from_pretrained(\n",
    "    model_id, torch_dtype=torch_dtype, low_cpu_mem_usage=True, use_safetensors=True\n",
    ")\n",
    "model.to(device)\n",
    "processor = AutoProcessor.from_pretrained(model_id)\n",
    "pipe = pipeline(\n",
    "    \"automatic-speech-recognition\",\n",
    "    model=model,\n",
    "    tokenizer=processor.tokenizer,\n",
    "    feature_extractor=processor.feature_extractor,\n",
    "    max_new_tokens=128,\n",
    "    chunk_length_s=30,\n",
    "    batch_size=16,\n",
    "    return_timestamps=True,\n",
    "    torch_dtype=torch_dtype,\n",
    "    device=device,\n",
    ")"
   ]
  },
  {
   "cell_type": "markdown",
   "id": "7b934316-6455-45ec-8c53-11d5d042ac5d",
   "metadata": {},
   "source": [
    "• 파일 변환"
   ]
  },
  {
   "cell_type": "code",
   "execution_count": null,
   "id": "64c536df-ebd3-4eea-918c-3d90bfb4b77d",
   "metadata": {},
   "outputs": [],
   "source": [
    "speech_output_path = \"./hey_audio_1.mp3\"\n",
    "result_openai = pipe(speech_output_path)\n",
    "print(result_openai[\"text\"])"
   ]
  },
  {
   "cell_type": "markdown",
   "id": "9f2f05fc-d2ed-49ba-9ece-de959e19000a",
   "metadata": {},
   "source": [
    "• 음성 번역"
   ]
  },
  {
   "cell_type": "code",
   "execution_count": null,
   "id": "2f27f96a-adea-4db8-9613-eb95b65c7df0",
   "metadata": {},
   "outputs": [],
   "source": [
    "result_trans = pipe(speech_output_path, generate_kwargs={\"task\":\"translate\"})\n",
    "print(result_trans [\"text\"])"
   ]
  },
  {
   "cell_type": "code",
   "execution_count": null,
   "id": "abbf61e6-8082-4baf-8fb7-bf6f58a4c86c",
   "metadata": {},
   "outputs": [],
   "source": []
  }
 ],
 "metadata": {
  "kernelspec": {
   "display_name": "Python 3 (ipykernel)",
   "language": "python",
   "name": "python3"
  },
  "language_info": {
   "codemirror_mode": {
    "name": "ipython",
    "version": 3
   },
   "file_extension": ".py",
   "mimetype": "text/x-python",
   "name": "python",
   "nbconvert_exporter": "python",
   "pygments_lexer": "ipython3",
   "version": "3.12.7"
  }
 },
 "nbformat": 4,
 "nbformat_minor": 5
}
