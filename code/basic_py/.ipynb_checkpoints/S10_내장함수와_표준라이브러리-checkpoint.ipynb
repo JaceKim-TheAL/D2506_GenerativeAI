{
 "cells": [
  {
   "cell_type": "markdown",
   "metadata": {
    "id": "f_V_tnS4iUeL"
   },
   "source": [
    "#10-1 내장함수"
   ]
  },
  {
   "cell_type": "code",
   "execution_count": 1,
   "metadata": {
    "colab": {
     "base_uri": "https://localhost:8080/"
    },
    "executionInfo": {
     "elapsed": 5,
     "status": "ok",
     "timestamp": 1708785261821,
     "user": {
      "displayName": "Python Hey",
      "userId": "18169524941718808962"
     },
     "user_tz": -540
    },
    "id": "lkFgVlR8iNfI",
    "outputId": "9779ade3-95bf-40bf-bffc-c6b23a2c9288"
   },
   "outputs": [
    {
     "name": "stdout",
     "output_type": "stream",
     "text": [
      "int_value는 :  <class 'int'>\n",
      "str_value는 :  <class 'str'>\n"
     ]
    }
   ],
   "source": [
    "int_value = 42\n",
    "str_value = \"42\"\n",
    "print(\"int_value는 : \", type(int_value))\n",
    "print(\"str_value는 : \", type(str_value))"
   ]
  },
  {
   "cell_type": "code",
   "execution_count": 2,
   "metadata": {
    "colab": {
     "base_uri": "https://localhost:8080/"
    },
    "executionInfo": {
     "elapsed": 3,
     "status": "ok",
     "timestamp": 1708785310080,
     "user": {
      "displayName": "Python Hey",
      "userId": "18169524941718808962"
     },
     "user_tz": -540
    },
    "id": "DII3JvPSiZDS",
    "outputId": "cf892080-5b87-4b8d-877d-4f2c22e160d5"
   },
   "outputs": [
    {
     "name": "stdout",
     "output_type": "stream",
     "text": [
      "가장 큰 값은 :  10000\n",
      "가장 작은 값은 :  1000\n"
     ]
    }
   ],
   "source": [
    "prices = [1000, 2000, 5000, 10000]\n",
    "print(\"가장 큰 값은 : \", max(prices))\n",
    "print(\"가장 작은 값은 : \", min(prices))"
   ]
  },
  {
   "cell_type": "code",
   "execution_count": 3,
   "metadata": {
    "colab": {
     "base_uri": "https://localhost:8080/"
    },
    "executionInfo": {
     "elapsed": 5,
     "status": "ok",
     "timestamp": 1708785322608,
     "user": {
      "displayName": "Python Hey",
      "userId": "18169524941718808962"
     },
     "user_tz": -540
    },
    "id": "xPs9ySv2ipZL",
    "outputId": "4e359088-27c0-4ae5-cac4-1a051a5c1da9"
   },
   "outputs": [
    {
     "name": "stdout",
     "output_type": "stream",
     "text": [
      "(1, '콜라')\n",
      "(2, '사이다')\n",
      "(3, '과자')\n"
     ]
    }
   ],
   "source": [
    "products = [\"콜라\", \"사이다\", \"과자\"]\n",
    "for product in enumerate(products, start=1):\n",
    "  print(product)"
   ]
  },
  {
   "cell_type": "code",
   "execution_count": 4,
   "metadata": {
    "colab": {
     "base_uri": "https://localhost:8080/"
    },
    "executionInfo": {
     "elapsed": 3,
     "status": "ok",
     "timestamp": 1708785338598,
     "user": {
      "displayName": "Python Hey",
      "userId": "18169524941718808962"
     },
     "user_tz": -540
    },
    "id": "hkGuNeAjisem",
    "outputId": "931cb9f2-6dca-4cf0-a92b-122c6d87a3c5"
   },
   "outputs": [
    {
     "name": "stdout",
     "output_type": "stream",
     "text": [
      "순서 1: 콜라\n",
      "순서 2: 사이다\n",
      "순서 3: 과자\n"
     ]
    }
   ],
   "source": [
    "products = [\"콜라\", \"사이다\", \"과자\"]\n",
    "for idx, product in enumerate(products, start=1):\n",
    "  print(f\"순서 {idx}: {product}\")"
   ]
  },
  {
   "cell_type": "code",
   "execution_count": 5,
   "metadata": {
    "colab": {
     "base_uri": "https://localhost:8080/"
    },
    "executionInfo": {
     "elapsed": 5,
     "status": "ok",
     "timestamp": 1708785357155,
     "user": {
      "displayName": "Python Hey",
      "userId": "18169524941718808962"
     },
     "user_tz": -540
    },
    "id": "4v2U_OLhiwMc",
    "outputId": "5beeff8e-f3e9-4bbd-a12e-7f186948ec47"
   },
   "outputs": [
    {
     "name": "stdout",
     "output_type": "stream",
     "text": [
      "[(1, '과자'), (2, '콜라'), (3, '사이다')]\n",
      "[(1, '과자'), (3, '사이다'), (2, '콜라')]\n"
     ]
    }
   ],
   "source": [
    "products = [(2, \"콜라\"), (3,\"사이다\"), (1,\"과자\")]\n",
    "sorted_prd_0 = sorted(products, key=lambda x: x[0])\n",
    "sorted_prd_1 = sorted(products, key=lambda x: x[1])\n",
    "print(sorted_prd_0)\n",
    "print(sorted_prd_1)"
   ]
  },
  {
   "cell_type": "code",
   "execution_count": 6,
   "metadata": {
    "colab": {
     "base_uri": "https://localhost:8080/"
    },
    "executionInfo": {
     "elapsed": 3,
     "status": "ok",
     "timestamp": 1708785400092,
     "user": {
      "displayName": "Python Hey",
      "userId": "18169524941718808962"
     },
     "user_tz": -540
    },
    "id": "Vw0Xg6Xdi0x_",
    "outputId": "10763135-945d-466a-ede3-d4e816970538"
   },
   "outputs": [
    {
     "name": "stdout",
     "output_type": "stream",
     "text": [
      "[1760, 1760, 1650]\n",
      "[1760, 1760, 1650]\n"
     ]
    }
   ],
   "source": [
    "prices = [1600, 1600, 1500] # for 문을 이용한 방법\n",
    "prices_up_for = []\n",
    "for price in prices:\n",
    "  new_price = int(price * 1.1) # 10퍼센트 상승이므로, 1.1 곱하기\n",
    "  prices_up_for.append(new_price)\n",
    "\n",
    "# map함수를 이용한 방법\n",
    "prices_up_map = list(map(lambda x: int(x*1.1), prices)) # 10퍼센트 상승이므로, 1.1 곱하기\n",
    "print(prices_up_for)\n",
    "print(prices_up_map)"
   ]
  },
  {
   "cell_type": "markdown",
   "metadata": {
    "id": "tLJJS5WUjEfs"
   },
   "source": [
    "#10-2 표준라이브러리"
   ]
  },
  {
   "cell_type": "code",
   "execution_count": 7,
   "metadata": {
    "colab": {
     "base_uri": "https://localhost:8080/"
    },
    "executionInfo": {
     "elapsed": 3,
     "status": "ok",
     "timestamp": 1708785444009,
     "user": {
      "displayName": "Python Hey",
      "userId": "18169524941718808962"
     },
     "user_tz": -540
    },
    "id": "fHG1e_dZi_Mu",
    "outputId": "1404c469-287a-4b5c-df90-60e2e62cb069"
   },
   "outputs": [
    {
     "name": "stdout",
     "output_type": "stream",
     "text": [
      "정수 난수 가져오기 :  3\n",
      "소수 난수 가져오기 :  0.620973447496089\n"
     ]
    }
   ],
   "source": [
    "import random\n",
    "# 정수 난수 가져오기\n",
    "random_int = random.randint(1, 10)\n",
    "print(\"정수 난수 가져오기 : \", random_int) # 소수 난수 가져오기\n",
    "random_float = random.random()\n",
    "print(\"소수 난수 가져오기 : \", random_float)"
   ]
  },
  {
   "cell_type": "code",
   "execution_count": 8,
   "metadata": {
    "colab": {
     "base_uri": "https://localhost:8080/"
    },
    "executionInfo": {
     "elapsed": 5,
     "status": "ok",
     "timestamp": 1708785458377,
     "user": {
      "displayName": "Python Hey",
      "userId": "18169524941718808962"
     },
     "user_tz": -540
    },
    "id": "Xdqg9emDjJus",
    "outputId": "c9750e50-248b-4cd8-9c8e-61b3013309a8"
   },
   "outputs": [
    {
     "name": "stdout",
     "output_type": "stream",
     "text": [
      "무작위로 섞인 리스트 :  ['음료수', '과자', '자전거', '샴푸']\n",
      "무작위로 선택 :  음료수\n"
     ]
    }
   ],
   "source": [
    "import random\n",
    "products = [\"자전거\", \"과자\", \"샴푸\", \"음료수\"] # 랜덤으로 섞기\n",
    "random.shuffle(products)\n",
    "print(\"무작위로 섞인 리스트 : \", products)\n",
    "# 랜덤으로 선택하기\n",
    "random_product = random.choice(products)\n",
    "print(\"무작위로 선택 : \", random_product)"
   ]
  },
  {
   "cell_type": "code",
   "execution_count": 9,
   "metadata": {
    "colab": {
     "base_uri": "https://localhost:8080/"
    },
    "executionInfo": {
     "elapsed": 4,
     "status": "ok",
     "timestamp": 1708785473928,
     "user": {
      "displayName": "Python Hey",
      "userId": "18169524941718808962"
     },
     "user_tz": -540
    },
    "id": "YcYGJcVvjNkc",
    "outputId": "f3880ccf-1d74-4a59-8679-e7baa388dc3f"
   },
   "outputs": [
    {
     "name": "stdout",
     "output_type": "stream",
     "text": [
      "현재 날짜와 시간: 2024-02-24 14:37:53.022762\n"
     ]
    }
   ],
   "source": [
    "from datetime import datetime\n",
    "current_datetime = datetime.now()\n",
    "print(\"현재 날짜와 시간:\", current_datetime)"
   ]
  },
  {
   "cell_type": "code",
   "execution_count": 10,
   "metadata": {
    "colab": {
     "base_uri": "https://localhost:8080/"
    },
    "executionInfo": {
     "elapsed": 3,
     "status": "ok",
     "timestamp": 1708785488874,
     "user": {
      "displayName": "Python Hey",
      "userId": "18169524941718808962"
     },
     "user_tz": -540
    },
    "id": "CZxS7MW2jRPd",
    "outputId": "4ec4cb8c-2c1a-4572-c6cd-5f83193dc308"
   },
   "outputs": [
    {
     "name": "stdout",
     "output_type": "stream",
     "text": [
      "2024-02-24 14:38:08.201150\n",
      "현재 날짜 및 시간(형식 지정): 2024-02-24 14:38:08\n"
     ]
    }
   ],
   "source": [
    "from datetime import datetime\n",
    "current_datetime = datetime.now()\n",
    "formatted_now = current_datetime.strftime(\"%Y-%m-%d %H:%M:%S\")\n",
    "print(current_datetime)\n",
    "print(\"현재 날짜 및 시간(형식 지정):\", formatted_now)"
   ]
  },
  {
   "cell_type": "code",
   "execution_count": 11,
   "metadata": {
    "colab": {
     "base_uri": "https://localhost:8080/"
    },
    "executionInfo": {
     "elapsed": 3,
     "status": "ok",
     "timestamp": 1708785514168,
     "user": {
      "displayName": "Python Hey",
      "userId": "18169524941718808962"
     },
     "user_tz": -540
    },
    "id": "iI8d1QmIjU8E",
    "outputId": "f87fe454-beca-4980-b1eb-32f9f51b4b0e"
   },
   "outputs": [
    {
     "name": "stdout",
     "output_type": "stream",
     "text": [
      "크리스마스 : 2023-12-25 00:00:00\n",
      "두 날짜 사이의 간격 : 100\n",
      "크리스마스로부터 50일 전 : 2023-11-05 00:00:00\n"
     ]
    }
   ],
   "source": [
    "from datetime import datetime, timedelta\n",
    "# 크리스마스 날짜 생성\n",
    "christmas = datetime(2023, 12, 25)\n",
    "# 특정 날짜 생성\n",
    "days_ago = datetime(2023, 9, 16)\n",
    "# 두 날짜 사이의 기간 계산\n",
    "between_days = christmas - days_ago\n",
    "# 크리스마스로부터 50일 전 계산\n",
    "fifty_days_ago = christmas - timedelta(days=50)\n",
    "print(\"크리스마스 :\", christmas)\n",
    "print(\"두 날짜 사이의 간격 :\", between_days.days)\n",
    "print(\"크리스마스로부터 50일 전 :\", fifty_days_ago)"
   ]
  },
  {
   "cell_type": "code",
   "execution_count": 1,
   "metadata": {
    "id": "EhnMVe-Xjayg"
   },
   "outputs": [
    {
     "name": "stdout",
     "output_type": "stream",
     "text": [
      "모든 파일 목록:  ['goods_online.py', 'heypython.py', 'S03_변수와_자료형.ipynb', 'S04_조건문_반복문.ipynb', 'S05_예외처리.ipynb', 'S06_함수.ipynb', 'S07)클래스.ipynb', 'S08 모듈과_패키지.ipynb', 'S09_ 파일입출력.ipynb', 'S10_내장함수와_표준라이브러리.ipynb']\n",
      "txt 파일 목록:  []\n"
     ]
    }
   ],
   "source": [
    "import glob\n",
    "# 현재 디렉터리에서 모든 파일 목록 얻기\n",
    "all_files = glob.glob('*')\n",
    "# 현재 디렉터리에서 확장자가 .txt인 파일 목록 얻기\n",
    "txt_files = glob.glob('*.txt')\n",
    "print(\"모든 파일 목록: \", all_files)\n",
    "print(\"txt 파일 목록: \", txt_files)\n"
   ]
  },
  {
   "cell_type": "code",
   "execution_count": 2,
   "metadata": {
    "executionInfo": {
     "elapsed": 513,
     "status": "ok",
     "timestamp": 1708785656725,
     "user": {
      "displayName": "Python Hey",
      "userId": "18169524941718808962"
     },
     "user_tz": -540
    },
    "id": "IF6qIwF3j8TD"
   },
   "outputs": [],
   "source": [
    "import pickle\n",
    "# 저장할 객체 생성\n",
    "data_to_save = {'콜라': 1600, '사이다': 1500, '생수': 1000} # 객체를 파일에 저장\n",
    "with open('data.pkl', 'wb') as file:\n",
    "  pickle.dump(data_to_save, file)"
   ]
  },
  {
   "cell_type": "code",
   "execution_count": 15,
   "metadata": {
    "colab": {
     "base_uri": "https://localhost:8080/"
    },
    "executionInfo": {
     "elapsed": 3,
     "status": "ok",
     "timestamp": 1708785680617,
     "user": {
      "displayName": "Python Hey",
      "userId": "18169524941718808962"
     },
     "user_tz": -540
    },
    "id": "7Liggvyyj8v3",
    "outputId": "7359cf94-af07-42b1-cb7c-c47937fb7f88"
   },
   "outputs": [
    {
     "name": "stdout",
     "output_type": "stream",
     "text": [
      "로드된 데이터: {'콜라': 1600, '사이다': 1500, '생수': 1000}\n"
     ]
    }
   ],
   "source": [
    "with open('data.pkl', 'rb') as file:\n",
    "  loaded_data = pickle.load(file)\n",
    "print(\"로드된 데이터:\", loaded_data)"
   ]
  },
  {
   "cell_type": "code",
   "execution_count": 5,
   "metadata": {
    "colab": {
     "base_uri": "https://localhost:8080/"
    },
    "executionInfo": {
     "elapsed": 1573,
     "status": "ok",
     "timestamp": 1708785830638,
     "user": {
      "displayName": "Python Hey",
      "userId": "18169524941718808962"
     },
     "user_tz": -540
    },
    "id": "2klyTdDcklTm",
    "outputId": "1539ab03-7fd8-434f-e347-aa93a10a3004"
   },
   "outputs": [],
   "source": [
    "# !pip install JSON"
   ]
  },
  {
   "cell_type": "code",
   "execution_count": 4,
   "metadata": {
    "colab": {
     "base_uri": "https://localhost:8080/"
    },
    "executionInfo": {
     "elapsed": 4,
     "status": "ok",
     "timestamp": 1708786387341,
     "user": {
      "displayName": "Python Hey",
      "userId": "18169524941718808962"
     },
     "user_tz": -540
    },
    "id": "zcixmCJlkCKh",
    "outputId": "323133bb-c225-469e-bd44-fad583003246"
   },
   "outputs": [
    {
     "name": "stdout",
     "output_type": "stream",
     "text": [
      "인코딩: {\"콜라\": 1600, \"사이다\": 1500, \"생수\": 1000}\n",
      "디코딩: {'콜라': 1600, '사이다': 1500, '생수': 1000}\n"
     ]
    }
   ],
   "source": [
    "import json\n",
    "# 파이썬 딕셔너리를 JSON 문자열로 변환\n",
    "data = {'콜라': 1600, '사이다': 1500, '생수': 1000}\n",
    "json_data = json.dumps(data, ensure_ascii=False)\n",
    "decoded_data = json.loads(json_data)\n",
    "print(\"인코딩:\", json_data)\n",
    "print(\"디코딩:\", decoded_data)"
   ]
  },
  {
   "cell_type": "code",
   "execution_count": 25,
   "metadata": {
    "colab": {
     "base_uri": "https://localhost:8080/"
    },
    "executionInfo": {
     "elapsed": 517,
     "status": "ok",
     "timestamp": 1708786443865,
     "user": {
      "displayName": "Python Hey",
      "userId": "18169524941718808962"
     },
     "user_tz": -540
    },
    "id": "waH2xOweki6K",
    "outputId": "ac4efcd3-3c13-4a5c-e858-8a234f53c1d5"
   },
   "outputs": [
    {
     "name": "stdout",
     "output_type": "stream",
     "text": [
      "로드된 파이썬 객체: {'콜라': 1600, '사이다': 1500, '생수': 1000}\n"
     ]
    }
   ],
   "source": [
    "import json\n",
    "# 파이썬 객체를 파일에 JSON 형식으로 저장\n",
    "data = {'콜라': 1600, '사이다': 1500, '생수': 1000}\n",
    "with open('data.JSON', 'w') as file:\n",
    "  json.dump(data, file)\n",
    "# 파일에서 JSON 데이터를 읽어와 파이썬 객체로 디코딩\n",
    "with open('data.JSON', 'r') as file:\n",
    "  loaded_data = json.load(file)\n",
    "print(\"로드된 파이썬 객체:\", loaded_data)\n"
   ]
  },
  {
   "cell_type": "code",
   "execution_count": 26,
   "metadata": {
    "colab": {
     "base_uri": "https://localhost:8080/"
    },
    "executionInfo": {
     "elapsed": 4,
     "status": "ok",
     "timestamp": 1708786469874,
     "user": {
      "displayName": "Python Hey",
      "userId": "18169524941718808962"
     },
     "user_tz": -540
    },
    "id": "IECMhnecm7B9",
    "outputId": "816f711a-1945-4618-e31b-23126c27ee67"
   },
   "outputs": [
    {
     "name": "stdout",
     "output_type": "stream",
     "text": [
      "유효한 상품 코드입니다.\n"
     ]
    }
   ],
   "source": [
    "import re\n",
    "product_code = 'snack_1234'\n",
    "if re.match('^snack_\\d{4}$', product_code):\n",
    "  print('유효한 상품 코드입니다.')\n",
    "else:\n",
    "  print('유효하지 않은 상품 코드입니다.')"
   ]
  },
  {
   "cell_type": "code",
   "execution_count": 27,
   "metadata": {
    "colab": {
     "base_uri": "https://localhost:8080/"
    },
    "executionInfo": {
     "elapsed": 5,
     "status": "ok",
     "timestamp": 1708786495475,
     "user": {
      "displayName": "Python Hey",
      "userId": "18169524941718808962"
     },
     "user_tz": -540
    },
    "id": "Xo3SWI4snEYj",
    "outputId": "12ec9a0a-adbd-4017-87da-5d76bb198f6a"
   },
   "outputs": [
    {
     "name": "stdout",
     "output_type": "stream",
     "text": [
      "콜라를 찾았습니다. 상품을 표시합니다.\n"
     ]
    }
   ],
   "source": [
    "import re\n",
    "user_input = '콜라를 찾고 있어요.'\n",
    "if re.search('콜라', user_input):\n",
    "  print('콜라를 찾았습니다. 상품을 표시합니다.')\n",
    "else:\n",
    "  print('찾으시는 상품이 없습니다.')"
   ]
  },
  {
   "cell_type": "code",
   "execution_count": 28,
   "metadata": {
    "colab": {
     "base_uri": "https://localhost:8080/"
    },
    "executionInfo": {
     "elapsed": 5,
     "status": "ok",
     "timestamp": 1708786512576,
     "user": {
      "displayName": "Python Hey",
      "userId": "18169524941718808962"
     },
     "user_tz": -540
    },
    "id": "6EKfMvZtnKxl",
    "outputId": "7f0e80ee-b770-44c4-eef2-ae5e2d04d227"
   },
   "outputs": [
    {
     "name": "stdout",
     "output_type": "stream",
     "text": [
      "가격: 2500원, 재고: 500개\n"
     ]
    }
   ],
   "source": [
    "import re\n",
    "product_description = '콜라 상품은 2500원에 판매되며, 현재 500개가 재고가 있습니다.'\n",
    "numbers = re.findall('\\d+', product_description)\n",
    "print(f'가격: {numbers[0]}원, 재고: {numbers[1]}개')"
   ]
  },
  {
   "cell_type": "code",
   "execution_count": 29,
   "metadata": {
    "colab": {
     "base_uri": "https://localhost:8080/"
    },
    "executionInfo": {
     "elapsed": 3,
     "status": "ok",
     "timestamp": 1708786533038,
     "user": {
      "displayName": "Python Hey",
      "userId": "18169524941718808962"
     },
     "user_tz": -540
    },
    "id": "wy4ErZJ9nOzn",
    "outputId": "bfa4394c-6791-4968-e5e3-74c993a60f6c"
   },
   "outputs": [
    {
     "name": "stdout",
     "output_type": "stream",
     "text": [
      "콜라은(는), 2500원에 판매되며, 현재 500개의 재고가 있습니다.\n"
     ]
    }
   ],
   "source": [
    "import re\n",
    "product_description = '상품은(는), 2500원에 판매되며, 현재 500개의 재고가 있습니다.'\n",
    "new_description = re.sub('상품', '콜라', product_description)\n",
    "print(new_description)"
   ]
  },
  {
   "cell_type": "code",
   "execution_count": null,
   "metadata": {
    "id": "_xLf7-FNnT6P"
   },
   "outputs": [],
   "source": []
  }
 ],
 "metadata": {
  "colab": {
   "authorship_tag": "ABX9TyPCASdSBxjl1DFf/Pdyu7D6",
   "provenance": []
  },
  "kernelspec": {
   "display_name": "base",
   "language": "python",
   "name": "python3"
  },
  "language_info": {
   "codemirror_mode": {
    "name": "ipython",
    "version": 3
   },
   "file_extension": ".py",
   "mimetype": "text/x-python",
   "name": "python",
   "nbconvert_exporter": "python",
   "pygments_lexer": "ipython3",
   "version": "3.12.7"
  }
 },
 "nbformat": 4,
 "nbformat_minor": 0
}
