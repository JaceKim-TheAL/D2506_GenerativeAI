{
 "cells": [
  {
   "cell_type": "markdown",
   "metadata": {
    "id": "mO1JaN_qUczw"
   },
   "source": [
    "#4-1 if조건문"
   ]
  },
  {
   "cell_type": "code",
   "execution_count": null,
   "metadata": {
    "colab": {
     "base_uri": "https://localhost:8080/"
    },
    "executionInfo": {
     "elapsed": 4,
     "status": "ok",
     "timestamp": 1707375905221,
     "user": {
      "displayName": "Python Hey",
      "userId": "18169524941718808962"
     },
     "user_tz": -540
    },
    "id": "fRSNqnXdhZVm",
    "outputId": "8a1108ac-9a2b-45c8-d25c-cecfbd8afda9"
   },
   "outputs": [],
   "source": [
    "search = \"콜라\"\n",
    "if search ==  \"콜라\":\n",
    "    print(\"1층으로 가세요\")\n",
    "    print(\"1층에서 A코너로 가세요\")"
   ]
  },
  {
   "cell_type": "code",
   "execution_count": null,
   "metadata": {
    "colab": {
     "base_uri": "https://localhost:8080/"
    },
    "executionInfo": {
     "elapsed": 4,
     "status": "ok",
     "timestamp": 1707376013248,
     "user": {
      "displayName": "Python Hey",
      "userId": "18169524941718808962"
     },
     "user_tz": -540
    },
    "id": "JlWCQ9WqiJ2d",
    "outputId": "7184bc79-884c-4bab-8383-fef18a1a034e"
   },
   "outputs": [],
   "source": [
    "search = \"과자\"\n",
    "if search ==  \"콜라\":\n",
    "    print(\"1층 A코너로 가세요\")\n",
    "else:\n",
    "    print(\"직원에게 물어보세요\")\n"
   ]
  },
  {
   "cell_type": "code",
   "execution_count": null,
   "metadata": {
    "colab": {
     "base_uri": "https://localhost:8080/"
    },
    "executionInfo": {
     "elapsed": 385,
     "status": "ok",
     "timestamp": 1707376118292,
     "user": {
      "displayName": "Python Hey",
      "userId": "18169524941718808962"
     },
     "user_tz": -540
    },
    "id": "IARdm0RSimrT",
    "outputId": "8096760f-cd95-4f42-a36e-2c034a4bf50c"
   },
   "outputs": [],
   "source": [
    "search = \"과자\"\n",
    "if search == \"콜라\":\n",
    "    print(\"1층 A코너로 가세요\")\n",
    "elif search == \"과자\":\n",
    "    print(\"1층 B코너로 가세요\")\n",
    "elif search == \"과일\":\n",
    "    print(\"1층 C코너로 가세요\")\n",
    "else:\n",
    "    print(\"직원에게 물어보세요\")"
   ]
  },
  {
   "cell_type": "code",
   "execution_count": null,
   "metadata": {
    "colab": {
     "base_uri": "https://localhost:8080/"
    },
    "executionInfo": {
     "elapsed": 592,
     "status": "ok",
     "timestamp": 1707376286331,
     "user": {
      "displayName": "Python Hey",
      "userId": "18169524941718808962"
     },
     "user_tz": -540
    },
    "id": "WYQnW2a-i9Gf",
    "outputId": "1efc9d7e-e6e6-4bf6-acf1-e339c7418ac5"
   },
   "outputs": [],
   "source": [
    "search = \"샴푸\"\n",
    "price = 15000\n",
    "\n",
    "if search == \"콜라\":\n",
    "    print(\"1층 A코너로 가세요: \")\n",
    "elif search == \"샴푸\":\n",
    "    if 10000 <= price < 20000:\n",
    "        print(\"2층 C-1 코너로 가세요\")\n",
    "    elif 20000 <= price :\n",
    "        print(\"2층 C-2 코너로 가세요\")\n",
    "else:\n",
    "    print(\"직원에게 물어보세요: \")\n"
   ]
  },
  {
   "cell_type": "markdown",
   "metadata": {
    "id": "FM6eWq2vklts"
   },
   "source": [
    "# 4-2 While"
   ]
  },
  {
   "cell_type": "code",
   "execution_count": null,
   "metadata": {
    "colab": {
     "base_uri": "https://localhost:8080/"
    },
    "executionInfo": {
     "elapsed": 3,
     "status": "ok",
     "timestamp": 1707376593549,
     "user": {
      "displayName": "Python Hey",
      "userId": "18169524941718808962"
     },
     "user_tz": -540
    },
    "id": "z-zhSofUjef8",
    "outputId": "641a82a6-0f53-49fd-9d05-035d9e313cbb"
   },
   "outputs": [],
   "source": [
    "order_count = 0\n",
    "while order_count <10:\n",
    "    order_count +=  1\n",
    "    print(f\"{order_count}개의 물건이 추가되었습니다.\")\n",
    "print(\"10% 특별할인이 적용됩니다.\")"
   ]
  },
  {
   "cell_type": "code",
   "execution_count": null,
   "metadata": {},
   "outputs": [],
   "source": [
    "# 여러 개의 물건을 찾는 예제 (샴푸일 경우에는 가격도 입력)\n",
    "search = \"\"\n",
    "while search != \"종료\":\n",
    "    search = input(\"찾을 물건을 입력하세요 (종료하려면 '종료'를 입력하세요): \")\n",
    "    if search == '콜라':\n",
    "        print(\"콜라는 A코너에 있습니다.\")\n",
    "    elif search == '과자':\n",
    "        print(\"과자는 B코너에 있습니다.\")\n",
    "    elif search == '샴푸':\n",
    "        price = int(input(\"샴푸의 가격을 입력하세요: \"))  # 가격을 정수형으로 변환\n",
    "        if 10000 <=  price < 20000:\n",
    "            print(\"2층 C-1 코너로 가세요.\")\n",
    "        elif price >=  20000:\n",
    "            print(\"2층 C-2 코너로 가세요.\")\n",
    "        else:\n",
    "            print(\"2층 C-0 코너로 가세요\")\n",
    "    else:\n",
    "        print(\"죄송합니다. 해당 물건을 찾을 수 없습니다.\")"
   ]
  },
  {
   "cell_type": "code",
   "execution_count": null,
   "metadata": {
    "colab": {
     "base_uri": "https://localhost:8080/"
    },
    "executionInfo": {
     "elapsed": 3,
     "status": "ok",
     "timestamp": 1707376793313,
     "user": {
      "displayName": "Python Hey",
      "userId": "18169524941718808962"
     },
     "user_tz": -540
    },
    "id": "mL0itlZ1lL9_",
    "outputId": "7215e9d8-7adc-47ed-90a5-a427f7e8ca3d"
   },
   "outputs": [],
   "source": [
    "products = [\"TV\", \"노트북\", \"세탁기\", \"과자\", \"음료수\", \"라면류\", \"생필품\"]\n",
    "\n",
    "print(\"이번 주의 할인 상품 목록:\")\n",
    "for product in products:\n",
    "    print(f\"- {product}\")\n",
    "\n",
    "print(\"이 상품들을 놓치지 마세요!\")"
   ]
  },
  {
   "cell_type": "code",
   "execution_count": null,
   "metadata": {
    "colab": {
     "base_uri": "https://localhost:8080/"
    },
    "executionInfo": {
     "elapsed": 4,
     "status": "ok",
     "timestamp": 1707376897649,
     "user": {
      "displayName": "Python Hey",
      "userId": "18169524941718808962"
     },
     "user_tz": -540
    },
    "id": "i9jgJRl5llQe",
    "outputId": "0a26dd08-acb0-4850-ac7a-a1b441ab7333"
   },
   "outputs": [],
   "source": [
    "for idx in range(1, 5):\n",
    "    print(idx)"
   ]
  },
  {
   "cell_type": "code",
   "execution_count": null,
   "metadata": {
    "colab": {
     "base_uri": "https://localhost:8080/"
    },
    "executionInfo": {
     "elapsed": 3,
     "status": "ok",
     "timestamp": 1707376913736,
     "user": {
      "displayName": "Python Hey",
      "userId": "18169524941718808962"
     },
     "user_tz": -540
    },
    "id": "pihk-f5-l-tJ",
    "outputId": "0374d47b-b8c8-4b87-954f-289314bca7ef"
   },
   "outputs": [],
   "source": [
    "for idx in range(2, 10, 3):\n",
    "    print(idx)"
   ]
  },
  {
   "cell_type": "markdown",
   "metadata": {
    "id": "_vV9UagCmJit"
   },
   "source": [
    "#4-4 break와 continue"
   ]
  },
  {
   "cell_type": "code",
   "execution_count": null,
   "metadata": {
    "colab": {
     "base_uri": "https://localhost:8080/"
    },
    "executionInfo": {
     "elapsed": 341,
     "status": "ok",
     "timestamp": 1707377047961,
     "user": {
      "displayName": "Python Hey",
      "userId": "18169524941718808962"
     },
     "user_tz": -540
    },
    "id": "0f3Ws9D8mCnS",
    "outputId": "903b7fc0-0e1e-45fe-8d78-48b61ed1e59f"
   },
   "outputs": [],
   "source": [
    "products = [\"TV\", \"노트북\", \"세탁기\", \"과자\", \"음료수\", \"라면류\", \"생필품\"]\n",
    "excluded = [\"과자\", \"음료수\"]\n",
    "print(\"이번 주의 할인 상품 목록:\")\n",
    "for product in products:\n",
    "    if product in excluded:\n",
    "        continue\n",
    "    elif product == \"라면류\":\n",
    "        print(f\"원하는 물건을 찾았습니다: {product}\")\n",
    "        break\n",
    "    print(f\"- {product}\")\n",
    "print(\"이 상품들을 놓치지 마세요!\")"
   ]
  },
  {
   "cell_type": "code",
   "execution_count": null,
   "metadata": {
    "colab": {
     "base_uri": "https://localhost:8080/"
    },
    "executionInfo": {
     "elapsed": 2,
     "status": "ok",
     "timestamp": 1707377115162,
     "user": {
      "displayName": "Python Hey",
      "userId": "18169524941718808962"
     },
     "user_tz": -540
    },
    "id": "-KdxNTmwmhlL",
    "outputId": "a12df615-fbcf-4065-830c-e75cd235f805"
   },
   "outputs": [],
   "source": [
    "products = [\n",
    "    {\"name\": \"종이컵\", \"price\": 5000},\n",
    "    {\"name\": \"필통\", \"price\": 3000},\n",
    "    {\"name\": \"책\", \"price\": 15000},\n",
    "    {\"name\": \"샴푸\", \"price\": 20000},\n",
    "    {\"name\": \"볼펜\", \"price\": 10000},\n",
    "]\n",
    "\n",
    "max_price = 30000 # 최대 예산\n",
    "not_purchased_price = 20000 # 하나 최대 구매 금액\n",
    "current_price = 0 # 현재 구매액\n",
    "items = [] # 현재 구매 리스트\n",
    "\n",
    "for product in products:\n",
    "    if product[\"price\"] >= not_purchased_price:  # 1개 최대 금액을 초과한 경우, pass\n",
    "        continue\n",
    "    current_price += product[\"price\"]\n",
    "    print(f\"{product['name']}: {product['price']}원\")\n",
    "\n",
    "    if current_price >= max_price:  # 예산 초과시 종료\n",
    "        print(\"총 가격이 예산을 초과하였습니다.\")\n",
    "        break\n",
    "    items.append(product[\"name\"]) # 구매 물건 리스트 추가\n",
    "print(\"총 구매물건은 : \", items)"
   ]
  },
  {
   "cell_type": "code",
   "execution_count": null,
   "metadata": {
    "colab": {
     "base_uri": "https://localhost:8080/"
    },
    "executionInfo": {
     "elapsed": 536,
     "status": "ok",
     "timestamp": 1707377160658,
     "user": {
      "displayName": "Python Hey",
      "userId": "18169524941718808962"
     },
     "user_tz": -540
    },
    "id": "y_By4EASmzuf",
    "outputId": "7bb58d51-370f-4198-fa06-b230131eea69"
   },
   "outputs": [],
   "source": [
    "inventory = {\n",
    "    \"종이컵\": 50,\n",
    "    \"필통\": 0,\n",
    "    \"책\": 20,\n",
    "    \"샴푸\": 40,\n",
    "    \"볼펜\": 15,\n",
    "}\n",
    "target_item = \"책\"\n",
    "print(f\"{target_item}의 재고 확인:\")\n",
    "for item, stock in inventory.items():\n",
    "    if item == target_item:\n",
    "        print(f\"{item}: {stock}개\")\n",
    "        break\n",
    "    elif stock == 0:\n",
    "        print(f\"{item}은(는) 품절되었습니다.\")\n",
    "        continue\n",
    "    print(f\"{item}은(는) 찾는 물건이 아닙니다.\")\n",
    "print(\"재고 확인 완료!\")\n"
   ]
  },
  {
   "cell_type": "markdown",
   "metadata": {
    "id": "ftRG-0LTnK-E"
   },
   "source": [
    "#4-5 List comprehension"
   ]
  },
  {
   "cell_type": "code",
   "execution_count": null,
   "metadata": {
    "colab": {
     "base_uri": "https://localhost:8080/"
    },
    "executionInfo": {
     "elapsed": 2,
     "status": "ok",
     "timestamp": 1707377296602,
     "user": {
      "displayName": "Python Hey",
      "userId": "18169524941718808962"
     },
     "user_tz": -540
    },
    "id": "QWskD9Lym-0X",
    "outputId": "5bd9b714-c9a0-4b37-e664-0fc0089d2ca1"
   },
   "outputs": [],
   "source": [
    "discounted = [\"TV\", \"노트북\", \"세탁기\", \"과자\", \"음료수\", \"라면류\", \"생필품\"]\n",
    "\n",
    "# for문 사용 시\n",
    "add_discounted_for = [] # 빈 리스트 생성\n",
    "for product in discounted:\n",
    "    add_discounted_for.append(f\"할인-{product}\") # append를 이용해 수정된 요소를 넣습니다.\n",
    "print(add_discounted_for)\n",
    "\n",
    "# 리스트 컴프리핸션 사용시\n",
    "add_discounted_com = [f\"할인-{product}\" for product in discounted]\n",
    "\n",
    "print(add_discounted_com)"
   ]
  },
  {
   "cell_type": "code",
   "execution_count": null,
   "metadata": {
    "colab": {
     "base_uri": "https://localhost:8080/"
    },
    "executionInfo": {
     "elapsed": 3,
     "status": "ok",
     "timestamp": 1707377368202,
     "user": {
      "displayName": "Python Hey",
      "userId": "18169524941718808962"
     },
     "user_tz": -540
    },
    "id": "gIYRXCz-ngEI",
    "outputId": "c7e15cb5-464e-4a32-8733-7f10ccc21e9a"
   },
   "outputs": [],
   "source": [
    "discounted = [\"TV\", \"노트북\", \"세탁기\", \"과자\", \"음료수\", \"라면류\", \"생필품\"]\n",
    "excluded = [\"과자\", \"음료수\"]\n",
    "filtered = [f\"할인-{product}\" for product in discounted if product not in excluded]\n",
    "print(filtered)"
   ]
  },
  {
   "cell_type": "code",
   "execution_count": null,
   "metadata": {
    "colab": {
     "base_uri": "https://localhost:8080/"
    },
    "executionInfo": {
     "elapsed": 3,
     "status": "ok",
     "timestamp": 1708781985104,
     "user": {
      "displayName": "Python Hey",
      "userId": "18169524941718808962"
     },
     "user_tz": -540
    },
    "id": "XOjO-Jljnxle",
    "outputId": "ef39ad12-7471-48a5-81a7-92132639ecc3"
   },
   "outputs": [],
   "source": [
    "products = [\"TV\", \"노트북\", \"세탁기\", \"과자\", \"음료수\", \"라면류\", \"생필품\"]\n",
    "excluded = [\"과자\", \"음료수\"]\n",
    "filtered = [f\"할인-{product}\" if product not in excluded else f\"제외-{product}\" for product in products]\n",
    "print(filtered)"
   ]
  }
 ],
 "metadata": {
  "colab": {
   "authorship_tag": "ABX9TyNJi94/CNF/U1K9JF2K19Ul",
   "provenance": []
  },
  "kernelspec": {
   "display_name": "base",
   "language": "python",
   "name": "python3"
  },
  "language_info": {
   "codemirror_mode": {
    "name": "ipython",
    "version": 3
   },
   "file_extension": ".py",
   "mimetype": "text/x-python",
   "name": "python",
   "nbconvert_exporter": "python",
   "pygments_lexer": "ipython3",
   "version": "3.12.7"
  }
 },
 "nbformat": 4,
 "nbformat_minor": 0
}
