{
 "cells": [
  {
   "cell_type": "markdown",
   "metadata": {
    "id": "f1MPyZkYZcw2"
   },
   "source": [
    "#7-2 클래스및객체생성"
   ]
  },
  {
   "cell_type": "code",
   "execution_count": 1,
   "metadata": {
    "executionInfo": {
     "elapsed": 4,
     "status": "ok",
     "timestamp": 1708782939029,
     "user": {
      "displayName": "Python Hey",
      "userId": "18169524941718808962"
     },
     "user_tz": -540
    },
    "id": "VZBWKVziZJ-c"
   },
   "outputs": [],
   "source": [
    "class Goods:\n",
    "  pass"
   ]
  },
  {
   "cell_type": "code",
   "execution_count": 3,
   "metadata": {
    "executionInfo": {
     "elapsed": 4,
     "status": "ok",
     "timestamp": 1708782943643,
     "user": {
      "displayName": "Python Hey",
      "userId": "18169524941718808962"
     },
     "user_tz": -540
    },
    "id": "qNTuRrN8Zh4i"
   },
   "outputs": [],
   "source": [
    "cola = Goods()"
   ]
  },
  {
   "cell_type": "code",
   "execution_count": 4,
   "metadata": {
    "colab": {
     "base_uri": "https://localhost:8080/"
    },
    "executionInfo": {
     "elapsed": 3,
     "status": "ok",
     "timestamp": 1708783041198,
     "user": {
      "displayName": "Python Hey",
      "userId": "18169524941718808962"
     },
     "user_tz": -540
    },
    "id": "jr5LH5GQZnpF",
    "outputId": "b75e17e4-3d16-4ee1-85bc-ecc04e6481a6"
   },
   "outputs": [
    {
     "name": "stdout",
     "output_type": "stream",
     "text": [
      "1500\n",
      "1000\n"
     ]
    }
   ],
   "source": [
    "class Goods:\n",
    "  name = ''       # 상품 이름\n",
    "  price = 0       # 상품 가격\n",
    "  sale = 100      # 상품 할인\n",
    "  make_date = ''  # 상품 등록일\n",
    "  manager = ''    # 등록한 사람\n",
    "\n",
    "cola = Goods()\n",
    "jelly = Goods()\n",
    "\n",
    "cola.price = 1500\n",
    "jelly.price = 1000\n",
    "print(cola.price)\n",
    "print(jelly.price)"
   ]
  },
  {
   "cell_type": "code",
   "execution_count": 7,
   "metadata": {
    "colab": {
     "base_uri": "https://localhost:8080/"
    },
    "executionInfo": {
     "elapsed": 345,
     "status": "ok",
     "timestamp": 1708783208155,
     "user": {
      "displayName": "Python Hey",
      "userId": "18169524941718808962"
     },
     "user_tz": -540
    },
    "id": "G75FikYuZ_gm",
    "outputId": "0b7a637d-3900-4006-cba9-df05ccff22f8"
   },
   "outputs": [
    {
     "name": "stdout",
     "output_type": "stream",
     "text": [
      "500\n",
      "500\n"
     ]
    }
   ],
   "source": [
    "cola = Goods()\n",
    "jelly = Goods()\n",
    "Goods.price = 500\n",
    "print(cola.price)\n",
    "print(jelly.price)"
   ]
  },
  {
   "cell_type": "code",
   "execution_count": 9,
   "metadata": {
    "colab": {
     "base_uri": "https://localhost:8080/"
    },
    "executionInfo": {
     "elapsed": 3,
     "status": "ok",
     "timestamp": 1708783240195,
     "user": {
      "displayName": "Python Hey",
      "userId": "18169524941718808962"
     },
     "user_tz": -540
    },
    "id": "i7Aot2W7aDFp",
    "outputId": "bc063124-7846-4c89-ea11-ee9ea2c5b7f5"
   },
   "outputs": [
    {
     "name": "stdout",
     "output_type": "stream",
     "text": [
      "1000\n",
      "500\n"
     ]
    }
   ],
   "source": [
    "cola = Goods()\n",
    "jelly = Goods()\n",
    "cola.price = 1000\n",
    "Goods.price = 500\n",
    "print(cola.price)\n",
    "print(jelly.price)"
   ]
  },
  {
   "cell_type": "code",
   "execution_count": 11,
   "metadata": {
    "colab": {
     "base_uri": "https://localhost:8080/"
    },
    "executionInfo": {
     "elapsed": 575,
     "status": "ok",
     "timestamp": 1708783619087,
     "user": {
      "displayName": "Python Hey",
      "userId": "18169524941718808962"
     },
     "user_tz": -540
    },
    "id": "Z02chrKeav79",
    "outputId": "3c62b018-8241-4ba9-dee8-cea199b22eaf"
   },
   "outputs": [
    {
     "name": "stdout",
     "output_type": "stream",
     "text": [
      "콜라\n",
      "1500\n"
     ]
    }
   ],
   "source": [
    "class Goods:\n",
    "  name = '' # 상품 이름\n",
    "  rice = 0  # 상품 가격\n",
    "\n",
    "  def make(self,name,price):\n",
    "    self.name = name\n",
    "    self.price = price\n",
    "\n",
    "cola = Goods()\n",
    "cola.make('콜라',1500)\n",
    "print(cola.name)\n",
    "print(cola.price)"
   ]
  },
  {
   "cell_type": "code",
   "execution_count": 13,
   "metadata": {
    "colab": {
     "base_uri": "https://localhost:8080/"
    },
    "executionInfo": {
     "elapsed": 3,
     "status": "ok",
     "timestamp": 1708783659308,
     "user": {
      "displayName": "Python Hey",
      "userId": "18169524941718808962"
     },
     "user_tz": -540
    },
    "id": "rd0_tQMIcIA7",
    "outputId": "36abe0ea-4e50-4f67-a07e-c4114dedd145"
   },
   "outputs": [
    {
     "name": "stdout",
     "output_type": "stream",
     "text": [
      "생성자 실행\n"
     ]
    }
   ],
   "source": [
    "class Goods:\n",
    "  def __init__(self):\n",
    "    print('생성자 실행')\n",
    "\n",
    "cola = Goods()"
   ]
  },
  {
   "cell_type": "code",
   "execution_count": 15,
   "metadata": {
    "colab": {
     "base_uri": "https://localhost:8080/",
     "height": 176
    },
    "executionInfo": {
     "elapsed": 382,
     "status": "error",
     "timestamp": 1708783693703,
     "user": {
      "displayName": "Python Hey",
      "userId": "18169524941718808962"
     },
     "user_tz": -540
    },
    "id": "EKJxfm_xcWSy",
    "outputId": "a2f60f13-aef9-42d7-b39d-fecfeee826d9"
   },
   "outputs": [
    {
     "ename": "TypeError",
     "evalue": "Goods.__init__() missing 2 required positional arguments: 'name' and 'price'",
     "output_type": "error",
     "traceback": [
      "\u001b[31m---------------------------------------------------------------------------\u001b[39m",
      "\u001b[31mTypeError\u001b[39m                                 Traceback (most recent call last)",
      "\u001b[36mCell\u001b[39m\u001b[36m \u001b[39m\u001b[32mIn[15]\u001b[39m\u001b[32m, line 6\u001b[39m\n\u001b[32m      3\u001b[39m     \u001b[38;5;28mprint\u001b[39m(name)\n\u001b[32m      4\u001b[39m     \u001b[38;5;28mprint\u001b[39m(price)\n\u001b[32m----> \u001b[39m\u001b[32m6\u001b[39m cola = \u001b[43mGoods\u001b[49m\u001b[43m(\u001b[49m\u001b[43m)\u001b[49m\n",
      "\u001b[31mTypeError\u001b[39m: Goods.__init__() missing 2 required positional arguments: 'name' and 'price'"
     ]
    }
   ],
   "source": [
    "class Goods:\n",
    "  def __init__(self,name,price):\n",
    "    print(name)\n",
    "    print(price)\n",
    "\n",
    "cola = Goods()"
   ]
  },
  {
   "cell_type": "code",
   "execution_count": 17,
   "metadata": {
    "colab": {
     "base_uri": "https://localhost:8080/"
    },
    "executionInfo": {
     "elapsed": 3,
     "status": "ok",
     "timestamp": 1708783707206,
     "user": {
      "displayName": "Python Hey",
      "userId": "18169524941718808962"
     },
     "user_tz": -540
    },
    "id": "D121b5wBceqL",
    "outputId": "f6edee40-7831-4992-dcd8-df246fe57abb"
   },
   "outputs": [
    {
     "name": "stdout",
     "output_type": "stream",
     "text": [
      "콜라\n",
      "1500\n"
     ]
    }
   ],
   "source": [
    "cola = Goods('콜라',1500)"
   ]
  },
  {
   "cell_type": "code",
   "execution_count": 19,
   "metadata": {
    "colab": {
     "base_uri": "https://localhost:8080/"
    },
    "executionInfo": {
     "elapsed": 3,
     "status": "ok",
     "timestamp": 1708783757228,
     "user": {
      "displayName": "Python Hey",
      "userId": "18169524941718808962"
     },
     "user_tz": -540
    },
    "id": "Vt-ZPK1Qch_0",
    "outputId": "4fa2ba60-1dab-42a7-9dbf-0ece24a554ab"
   },
   "outputs": [
    {
     "name": "stdout",
     "output_type": "stream",
     "text": [
      "상품명\n",
      "0\n",
      "********************\n",
      "콜라\n",
      "1500\n"
     ]
    }
   ],
   "source": [
    "class Goods:\n",
    "  name = '상품명'\n",
    "  price = 0\n",
    "\n",
    "class Sale_goods(Goods):\n",
    "\n",
    "  def make(self,name,price):\n",
    "    self.name = name\n",
    "    self.price = price\n",
    "\n",
    "  def print_goods(self):\n",
    "    print(self.name)\n",
    "    print(self.price)\n",
    "\n",
    "sale_cola = Sale_goods()\n",
    "sale_cola.print_goods()\n",
    "print('*'*20)\n",
    "sale_cola.make('콜라',1500)\n",
    "sale_cola.print_goods()"
   ]
  },
  {
   "cell_type": "code",
   "execution_count": 21,
   "metadata": {
    "colab": {
     "base_uri": "https://localhost:8080/"
    },
    "executionInfo": {
     "elapsed": 3,
     "status": "ok",
     "timestamp": 1708783805761,
     "user": {
      "displayName": "Python Hey",
      "userId": "18169524941718808962"
     },
     "user_tz": -540
    },
    "id": "N2bjlZIJcuUl",
    "outputId": "71cf5a8e-816c-4d0e-9236-18e16fb8b94f"
   },
   "outputs": [
    {
     "name": "stdout",
     "output_type": "stream",
     "text": [
      "Goods클래스 생성자\n"
     ]
    }
   ],
   "source": [
    "class Goods:\n",
    "  def __init__(self):\n",
    "    print('Goods클래스 생성자')\n",
    "\n",
    "class Sale_goods(Goods):\n",
    "  pass\n",
    "\n",
    "sale_cola = Sale_goods()"
   ]
  },
  {
   "cell_type": "code",
   "execution_count": 23,
   "metadata": {
    "colab": {
     "base_uri": "https://localhost:8080/"
    },
    "executionInfo": {
     "elapsed": 2,
     "status": "ok",
     "timestamp": 1708783837720,
     "user": {
      "displayName": "Python Hey",
      "userId": "18169524941718808962"
     },
     "user_tz": -540
    },
    "id": "X3vHfaYlc6DM",
    "outputId": "4efede46-97ac-45c3-ca8a-11e2c2c980f4"
   },
   "outputs": [
    {
     "name": "stdout",
     "output_type": "stream",
     "text": [
      "Sale_goods클래스 생성자\n"
     ]
    }
   ],
   "source": [
    "class Goods:\n",
    "  def __init__(self):\n",
    "    print('Goods클래스 생성자')\n",
    "\n",
    "class Sale_goods(Goods):\n",
    "  def __init__(self):\n",
    "    print('Sale_goods클래스 생성자')\n",
    "  pass\n",
    "\n",
    "sale_cola = Sale_goods()"
   ]
  },
  {
   "cell_type": "code",
   "execution_count": 25,
   "metadata": {
    "colab": {
     "base_uri": "https://localhost:8080/"
    },
    "executionInfo": {
     "elapsed": 360,
     "status": "ok",
     "timestamp": 1708783911137,
     "user": {
      "displayName": "Python Hey",
      "userId": "18169524941718808962"
     },
     "user_tz": -540
    },
    "id": "NpN5wMdJdB6r",
    "outputId": "3e9dc8a2-c3d5-4eea-b364-bfff1f0deff2"
   },
   "outputs": [
    {
     "name": "stdout",
     "output_type": "stream",
     "text": [
      "콜라\n",
      "Goods 클래스 생성자\n",
      "Sale_goods 클래스 생성자\n"
     ]
    }
   ],
   "source": [
    "class Goods:\n",
    "  def __init__(self,name):\n",
    "    self.name = name\n",
    "    print(self.name)\n",
    "    print('Goods 클래스 생성자')\n",
    "\n",
    "class Sale_goods(Goods):\n",
    "  def __init__(self,name):\n",
    "    super().__init__(name)\n",
    "    print('Sale_goods 클래스 생성자')\n",
    "  pass\n",
    "\n",
    "sale_cola = Sale_goods('콜라')"
   ]
  },
  {
   "cell_type": "code",
   "execution_count": null,
   "metadata": {
    "id": "p9Ejb4t_dP98"
   },
   "outputs": [],
   "source": []
  },
  {
   "cell_type": "code",
   "execution_count": null,
   "metadata": {},
   "outputs": [],
   "source": []
  }
 ],
 "metadata": {
  "colab": {
   "authorship_tag": "ABX9TyOcf5nWmVjj9NAgElG5/n2j",
   "provenance": []
  },
  "kernelspec": {
   "display_name": "Python 3 (ipykernel)",
   "language": "python",
   "name": "python3"
  },
  "language_info": {
   "codemirror_mode": {
    "name": "ipython",
    "version": 3
   },
   "file_extension": ".py",
   "mimetype": "text/x-python",
   "name": "python",
   "nbconvert_exporter": "python",
   "pygments_lexer": "ipython3",
   "version": "3.12.7"
  }
 },
 "nbformat": 4,
 "nbformat_minor": 4
}
