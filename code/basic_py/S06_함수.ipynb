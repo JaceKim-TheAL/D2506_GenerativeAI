{
 "cells": [
  {
   "cell_type": "markdown",
   "metadata": {
    "id": "hvQOhRIlXijQ"
   },
   "source": [
    "#6-1 함수"
   ]
  },
  {
   "cell_type": "code",
   "execution_count": 1,
   "metadata": {
    "colab": {
     "base_uri": "https://localhost:8080/"
    },
    "executionInfo": {
     "elapsed": 5,
     "status": "ok",
     "timestamp": 1708782476864,
     "user": {
      "displayName": "Python Hey",
      "userId": "18169524941718808962"
     },
     "user_tz": -540
    },
    "id": "JFs33f7RXM-B",
    "outputId": "bd39ba5b-9827-4826-9601-011a1a4260c1"
   },
   "outputs": [
    {
     "name": "stdout",
     "output_type": "stream",
     "text": [
      "cola재고 : 15\n"
     ]
    }
   ],
   "source": [
    "total_object = {'cola':5}\n",
    "\n",
    "def add_object(name,count):\n",
    "  total_object[name] += count\n",
    "  print(name + '재고 : '+str(total_object[name]))\n",
    "\n",
    "add_object('cola',10)"
   ]
  },
  {
   "cell_type": "code",
   "execution_count": 2,
   "metadata": {
    "colab": {
     "base_uri": "https://localhost:8080/"
    },
    "executionInfo": {
     "elapsed": 4,
     "status": "ok",
     "timestamp": 1708782485831,
     "user": {
      "displayName": "Python Hey",
      "userId": "18169524941718808962"
     },
     "user_tz": -540
    },
    "id": "u0ih30ktX0Q_",
    "outputId": "41133cdf-7a3e-4033-d0a6-bf3222e1bdcb"
   },
   "outputs": [
    {
     "name": "stdout",
     "output_type": "stream",
     "text": [
      "오늘은 헤이마트 휴일입니다.\n"
     ]
    }
   ],
   "source": [
    "def notice():\n",
    "  print('오늘은 헤이마트 휴일입니다.')\n",
    "\n",
    "notice()"
   ]
  },
  {
   "cell_type": "code",
   "execution_count": 3,
   "metadata": {
    "colab": {
     "base_uri": "https://localhost:8080/"
    },
    "executionInfo": {
     "elapsed": 4,
     "status": "ok",
     "timestamp": 1708782517676,
     "user": {
      "displayName": "Python Hey",
      "userId": "18169524941718808962"
     },
     "user_tz": -540
    },
    "id": "YCsKGOZwX36h",
    "outputId": "9431166d-25ad-4ee9-bbdd-63b3adc84a03"
   },
   "outputs": [
    {
     "name": "stdout",
     "output_type": "stream",
     "text": [
      "1층 A-5 코너에 있습니다.\n"
     ]
    }
   ],
   "source": [
    "def find_object(name):\n",
    "  if name == 'cola':\n",
    "    print('1층 A-1 코너에 있습니다.')\n",
    "  elif name == '사과':\n",
    "    print('1층 A-5 코너에 있습니다.')\n",
    "\n",
    "find_object('사과')"
   ]
  },
  {
   "cell_type": "code",
   "execution_count": 4,
   "metadata": {
    "colab": {
     "base_uri": "https://localhost:8080/"
    },
    "executionInfo": {
     "elapsed": 5,
     "status": "ok",
     "timestamp": 1708782547888,
     "user": {
      "displayName": "Python Hey",
      "userId": "18169524941718808962"
     },
     "user_tz": -540
    },
    "id": "x-YbmcqzX_ot",
    "outputId": "67f17c50-bf7e-46fb-f6e4-1ee6cf6c4e12"
   },
   "outputs": [
    {
     "name": "stdout",
     "output_type": "stream",
     "text": [
      "{'name': '김마트', 'age': 21, 'phone': '01012345678'}\n"
     ]
    }
   ],
   "source": [
    "def insert_user(name,age,phone):\n",
    "  user_info = {}\n",
    "  user_info['name'] = name\n",
    "  user_info['age'] = age\n",
    "  user_info['phone'] = phone\n",
    "  print(user_info)\n",
    "\n",
    "insert_user('김마트',21,'01012345678')"
   ]
  },
  {
   "cell_type": "code",
   "execution_count": 5,
   "metadata": {
    "colab": {
     "base_uri": "https://localhost:8080/"
    },
    "executionInfo": {
     "elapsed": 3,
     "status": "ok",
     "timestamp": 1708782583125,
     "user": {
      "displayName": "Python Hey",
      "userId": "18169524941718808962"
     },
     "user_tz": -540
    },
    "id": "26PXc3k3YG4Y",
    "outputId": "ee410885-0d44-4386-b07b-af990aaf0170"
   },
   "outputs": [
    {
     "name": "stdout",
     "output_type": "stream",
     "text": [
      "('사과', '설탕', '커피')\n",
      "('콜라', '사이다')\n"
     ]
    }
   ],
   "source": [
    "def insert_cart(*data):\n",
    "  print(data)\n",
    "\n",
    "insert_cart('사과','설탕','커피')\n",
    "insert_cart('콜라','사이다')"
   ]
  },
  {
   "cell_type": "code",
   "execution_count": 6,
   "metadata": {
    "colab": {
     "base_uri": "https://localhost:8080/"
    },
    "executionInfo": {
     "elapsed": 3,
     "status": "ok",
     "timestamp": 1708782608918,
     "user": {
      "displayName": "Python Hey",
      "userId": "18169524941718808962"
     },
     "user_tz": -540
    },
    "id": "Is5LkvGJYPjO",
    "outputId": "06aef9ad-1bae-4c06-f7b1-4f0625fd5e27"
   },
   "outputs": [
    {
     "name": "stdout",
     "output_type": "stream",
     "text": [
      "{'data': ['사과', '콜라', '캔디'], 'count': [4, 3, 2]}\n"
     ]
    }
   ],
   "source": [
    "def insert_cart(**kwargs):\n",
    "  print(kwargs)\n",
    "\n",
    "insert_cart(data=['사과','콜라','캔디'],count=[4,3,2])"
   ]
  },
  {
   "cell_type": "code",
   "execution_count": 7,
   "metadata": {
    "colab": {
     "base_uri": "https://localhost:8080/"
    },
    "executionInfo": {
     "elapsed": 5,
     "status": "ok",
     "timestamp": 1708782643105,
     "user": {
      "displayName": "Python Hey",
      "userId": "18169524941718808962"
     },
     "user_tz": -540
    },
    "id": "vg0BBY2AYV8_",
    "outputId": "7c015e8d-fc66-4f73-9f82-507cf1e553a4"
   },
   "outputs": [
    {
     "name": "stdout",
     "output_type": "stream",
     "text": [
      "김마트\n",
      "21\n",
      "0100000000\n"
     ]
    }
   ],
   "source": [
    "def insert_user(name,age,phone='0100000000'):\n",
    "  user_info = {}\n",
    "  user_info['name'] = name\n",
    "  user_info['age'] = age\n",
    "  user_info['phone'] = phone\n",
    "  print(name)\n",
    "  print(age)\n",
    "  print(phone)\n",
    "\n",
    "insert_user('김마트',21)"
   ]
  },
  {
   "cell_type": "code",
   "execution_count": 8,
   "metadata": {
    "colab": {
     "base_uri": "https://localhost:8080/"
    },
    "executionInfo": {
     "elapsed": 2,
     "status": "ok",
     "timestamp": 1708782657684,
     "user": {
      "displayName": "Python Hey",
      "userId": "18169524941718808962"
     },
     "user_tz": -540
    },
    "id": "svpx5bGgYeMS",
    "outputId": "1af8375a-b6b4-45b5-eecb-a0a0427fd6aa"
   },
   "outputs": [
    {
     "name": "stdout",
     "output_type": "stream",
     "text": [
      "홍길동\n",
      "21\n",
      "0100000000\n"
     ]
    }
   ],
   "source": [
    "insert_user(name='홍길동',age=21)"
   ]
  },
  {
   "cell_type": "code",
   "execution_count": 9,
   "metadata": {
    "colab": {
     "base_uri": "https://localhost:8080/"
    },
    "executionInfo": {
     "elapsed": 3,
     "status": "ok",
     "timestamp": 1708782696054,
     "user": {
      "displayName": "Python Hey",
      "userId": "18169524941718808962"
     },
     "user_tz": -540
    },
    "id": "6Ode0-ihYhwg",
    "outputId": "35d16cd8-1697-4f32-d00d-c908c4502d29"
   },
   "outputs": [
    {
     "name": "stdout",
     "output_type": "stream",
     "text": [
      "15\n"
     ]
    }
   ],
   "source": [
    "total_object = {'cola':5}\n",
    "def add_object(name,count):\n",
    "  total_object[name] += count\n",
    "  return total_object[name]\n",
    "\n",
    "result = add_object('cola',10)\n",
    "print(result)"
   ]
  },
  {
   "cell_type": "code",
   "execution_count": 10,
   "metadata": {
    "colab": {
     "base_uri": "https://localhost:8080/"
    },
    "executionInfo": {
     "elapsed": 328,
     "status": "ok",
     "timestamp": 1708782719635,
     "user": {
      "displayName": "Python Hey",
      "userId": "18169524941718808962"
     },
     "user_tz": -540
    },
    "id": "zwzeXPpmYrPV",
    "outputId": "721687b9-efaf-4419-a8b1-a3c8bf111884"
   },
   "outputs": [
    {
     "name": "stdout",
     "output_type": "stream",
     "text": [
      "15\n"
     ]
    }
   ],
   "source": [
    "def sale_price(price):\n",
    "  result = price * 0.9\n",
    "  return result\n",
    "print(result)"
   ]
  },
  {
   "cell_type": "code",
   "execution_count": 11,
   "metadata": {
    "colab": {
     "base_uri": "https://localhost:8080/"
    },
    "executionInfo": {
     "elapsed": 3,
     "status": "ok",
     "timestamp": 1708782779854,
     "user": {
      "displayName": "Python Hey",
      "userId": "18169524941718808962"
     },
     "user_tz": -540
    },
    "id": "NQN2v9AHYw8C",
    "outputId": "d8c333a3-0efd-47b8-d224-38dd75f62bb0"
   },
   "outputs": [
    {
     "name": "stdout",
     "output_type": "stream",
     "text": [
      "800.0\n"
     ]
    }
   ],
   "source": [
    "sale_per = 0.8\n",
    "sale_price = 0\n",
    "\n",
    "def get_sale_price(price):\n",
    "  global sale_per\n",
    "  global sale_price\n",
    "  sale_price = price * sale_per\n",
    "\n",
    "get_sale_price(1000)\n",
    "print(sale_price)"
   ]
  },
  {
   "cell_type": "code",
   "execution_count": 12,
   "metadata": {
    "colab": {
     "base_uri": "https://localhost:8080/"
    },
    "executionInfo": {
     "elapsed": 2,
     "status": "ok",
     "timestamp": 1708782804469,
     "user": {
      "displayName": "Python Hey",
      "userId": "18169524941718808962"
     },
     "user_tz": -540
    },
    "id": "dllQY8QzY_k-",
    "outputId": "97594d4f-77e9-49f6-d727-724296b1f858"
   },
   "outputs": [
    {
     "name": "stdout",
     "output_type": "stream",
     "text": [
      "900.0\n"
     ]
    }
   ],
   "source": [
    "sale_price = lambda price,sale_per : price*sale_per\n",
    "result = sale_price(1000,0.9)\n",
    "print(result)"
   ]
  },
  {
   "cell_type": "code",
   "execution_count": null,
   "metadata": {
    "id": "8twEhozdZFlb"
   },
   "outputs": [],
   "source": []
  }
 ],
 "metadata": {
  "colab": {
   "authorship_tag": "ABX9TyOvHS1WIF2FhjtzbPe7OnZp",
   "provenance": []
  },
  "kernelspec": {
   "display_name": "Python 3 (ipykernel)",
   "language": "python",
   "name": "python3"
  },
  "language_info": {
   "codemirror_mode": {
    "name": "ipython",
    "version": 3
   },
   "file_extension": ".py",
   "mimetype": "text/x-python",
   "name": "python",
   "nbconvert_exporter": "python",
   "pygments_lexer": "ipython3",
   "version": "3.12.7"
  }
 },
 "nbformat": 4,
 "nbformat_minor": 4
}
