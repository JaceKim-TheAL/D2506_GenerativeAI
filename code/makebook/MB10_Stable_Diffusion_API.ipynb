{
 "cells": [
  {
   "cell_type": "markdown",
   "metadata": {},
   "source": [
    "# 스테이블 디퓨전 API"
   ]
  },
  {
   "cell_type": "markdown",
   "metadata": {},
   "source": [
    "### 이미지 생성 AI 서비스\n",
    "- 달리(DALL-E), 미드저니(Midjourney), 드림스튜디오(DreamStudio), 파이어플라이(Firefly), 노벨AI(NovelAI), 스테이블 디퓨전(Stable Diffusion)\n",
    "<br/>\n",
    "\n",
    "### 스테이블 디퓨전(Stable Diffusion)\n",
    "- Stability AI에서 오픈소스 라이선스로 배포한 이미지 생성 인공지능 모델\n",
    "- 특히 오픈소스 모델이면서도 낮은 성능의 PC에서도 잘 작동되는 스테이블 디퓨전이 등장하며 이미지 생성 AI의 시대를 열게 되었다\n",
    "- 스테이블 디튜전 사용방법 <br/>\n",
    "  ❶ 깃허브에 올라와 있는 stable-diffusion 모델을 복잡한 과정을 거처 직접 설치하여 사용하는 방법 <br/>\n",
    "  ❷ 허깅페이스에서 Diffusers 프레임워크를 설치해 사용하는 방법 <br/>\n",
    "  ❸ 노드 방식으로 여러 모델을 조합해 사용하는 comfyUI를 설치해 사용하는 방법 <br/>\n",
    "  ❹ 가장 많은 사람이 사용하는 방식인 Stable Diffusion web UI를 설치해 사용하는 방법 <br/>\n",
    "\n",
    "  "
   ]
  },
  {
   "cell_type": "markdown",
   "metadata": {},
   "source": [
    "### 1. Stable Diffusion API 가입 및 API 키 발급\n",
    "\n",
    "1️⃣ Stable Diffusion API 접속 : https://stablediffusionapi.com/ <br/>\n",
    "\n",
    "2️⃣ Sign Up with Google <br/>\n",
    "\n",
    "3️⃣ API 키 생성  <br/>\n",
    "\n",
    "4️⃣ Pricing <br/>\n",
    "<br/>\n"
   ]
  },
  {
   "cell_type": "markdown",
   "metadata": {},
   "source": [
    "### 2. Stable Diffusion API\n",
    "\n",
    "1️⃣ Stable Diffusion API :   <br/>\n",
    "  - 프롬프트로부터 이미지를 생성하는 Text to Image,   <br/>\n",
    "  - 이미지와 프롬프트로부터 이미지를 생성하는 Image to Image, <br/>\n",
    "  - 이미지와 마스크 이미지로부터 부분적인 이미지를 생성하는 Inainting  <br/>\n",
    "  이 있다.  <br/>\n",
    "\n",
    "2️⃣ Community Models API V4 <br/>\n",
    "  - Community Models API V4는 위의 Stable Diffusion API 와 같은 기능을 가지고 있지만, <br/>\n",
    "    여러 이미지 생성 모델을 자유롭게 사용할 수 있다. <br/>\n",
    "  - 유저들이 자신들이 원하는 스타일의 이미지를 학습시킨 생성 모델을 이용할 수 있고 <br/>\n",
    "  - 로라(LoRA)라는 기법을 이용한 모델을 추가로 이용하여 이미지에 다른 스타일을 입히는 방법도 있다. <br/>\n",
    "    \n",
    "3️⃣ ControlNet <br/>\n",
    "  - ControlNet은 이미지를 생성하는 과정에서 좀 세부적으로 제어할 수 있는 기능이다. <br/>\n",
    "  - 공간의 깊이나 이미지의 외곽선 특징, 인간의 잣 등 특징을 남겨 입력한 이미지의 특징을 최대한 살린 이미지를 생성할 수 있다. <br/>\n",
    "\n",
    "4️⃣ Text to Video <br/>\n",
    "  - Text to Video는 프롬프트로부터 비디오를 생성한다. <br/>\n",
    "  - 현재 생성 AI 인공지능은 이미지를 넘어 영상을 생성하는 데 많은 노력을 기울리고 있다. <br/>\n",
    "  - 아직은 생성된  영상이 부자연스럽지만 관련 연구가 활발히 이루이지고 있다. <br/>\n",
    "  \n",
    "5️⃣ Image Editing <br/>\n",
    "  - Image Editing에는 이미지를 편집하는 여러 기능이 모여 있다. <br/>\n",
    "  - 인물을 제외한 배경을 삭제하는 Remove Backgroud, <br/>\n",
    "  - 이미지를 고해상도로 바꿔주는 Super Resolution, <br/>\n",
    "  - 이미지의 보이지 않는 외곽 부분을 더 확장시켜 생성하는 Outpainting 등 <br/>\n",
    "  - 세부적인 기능을 사용할 수 있다.  <br/>\n",
    "  \n",
    "6️⃣ Text to 3D <br/>\n",
    "  - Text to 3D는 프롬프트나 이미지를 입력하여 3D 이미지(Object)를 생성하는 기능이다. <br/>\n",
    "  - 아직까지는 생성된 3D 이미지에 어색한 부분이 있기는 하지만 빠르게 발전 중인 분야이다. <br/> \n",
    "<br/>\n"
   ]
  },
  {
   "cell_type": "markdown",
   "metadata": {},
   "source": [
    "### 3. 플레이그라운드\n",
    "\n",
    "1️⃣ 스테이블 디퓨전 <br/>\n",
    "  -  sDXL 모델을 사용해 이미지를 출력하는 스테이블 디튜전의 Playground 기본 인터페이스 <br/>\n",
    "  ① Select API Endpoint : <br/>\n",
    "  ② Prompt : <br/>\n",
    "  ③ Negative prompt <br/> \n",
    "  ④ Enhance Prompt <br/>\n",
    "  ⑤ GEnerate : <br/>\n",
    "\n",
    "2️⃣ Community Model <br/>\n",
    "  - Community Model은 다른 유저가 학습시킨 모델을 이용할 수 있는 기능이다. <br/>\n",
    "  - 스테이블 디퓨전과 마찬가지로 Select API Endpoint를 설정하고 Model ID에서 다른 유저의 모델을 선택한다. <br/>\n",
    "  - 그 밖의 다른 기능은 모두 동일\n"
   ]
  },
  {
   "cell_type": "markdown",
   "metadata": {},
   "source": [
    "### 4. Stable Diffusion API 사용해보기\n"
   ]
  },
  {
   "cell_type": "markdown",
   "metadata": {
    "id": "BhZ1AcevJMjN"
   },
   "source": [
    "• 모듈 임포트"
   ]
  },
  {
   "cell_type": "code",
   "execution_count": 1,
   "metadata": {
    "colab": {
     "base_uri": "https://localhost:8080/"
    },
    "executionInfo": {
     "elapsed": 10013,
     "status": "ok",
     "timestamp": 1708879323325,
     "user": {
      "displayName": "Altemion",
      "userId": "06467421994166200677"
     },
     "user_tz": -540
    },
    "id": "ce1EzZctJLi4",
    "outputId": "9f12406e-ceef-4aa8-b88a-500b0f6cf84a"
   },
   "outputs": [
    {
     "name": "stdout",
     "output_type": "stream",
     "text": [
      "Requirement already satisfied: requests in /usr/local/lib/python3.10/dist-packages (2.31.0)\n",
      "Requirement already satisfied: charset-normalizer<4,>=2 in /usr/local/lib/python3.10/dist-packages (from requests) (3.3.2)\n",
      "Requirement already satisfied: idna<4,>=2.5 in /usr/local/lib/python3.10/dist-packages (from requests) (3.6)\n",
      "Requirement already satisfied: urllib3<3,>=1.21.1 in /usr/local/lib/python3.10/dist-packages (from requests) (2.0.7)\n",
      "Requirement already satisfied: certifi>=2017.4.17 in /usr/local/lib/python3.10/dist-packages (from requests) (2024.2.2)\n"
     ]
    }
   ],
   "source": [
    "!pip install requests"
   ]
  },
  {
   "cell_type": "markdown",
   "metadata": {
    "id": "js3rPw6kI1AI"
   },
   "source": [
    "1️⃣ API 키 등록"
   ]
  },
  {
   "cell_type": "code",
   "execution_count": null,
   "metadata": {
    "id": "I8ByEfdKIRAj"
   },
   "outputs": [],
   "source": [
    "from google.colab import userdata\n",
    "SD_API_KEY = userdata.get('SD_API_KEY')"
   ]
  },
  {
   "cell_type": "markdown",
   "metadata": {
    "id": "48o7NocWI40D"
   },
   "source": [
    "2️⃣ Text to Image <br/>\n",
    "  - 텍스트 프롬프트에서 이미지를 생성하는 기능\n",
    "  - 통신 코드를 작성해 Stable Diffusion API에 요청하면 서버에서 이미지를 생성한 후 생성된 이미지를 확인할 수 있는 링크를 반환\n",
    "  - 스테이블 디퓨전 API는 OpenAI API와 달리 파이썬에서 사용할 수있는 전용 모듈이 존재하지 않기 때문에, requests를 활용하여 API 에 요청하도록 권장하고 있다.\n",
    "  - 코랩에서는 기본적으로 requests 패키지가 설치 되어 있다. "
   ]
  },
  {
   "cell_type": "code",
   "execution_count": null,
   "metadata": {
    "colab": {
     "base_uri": "https://localhost:8080/"
    },
    "executionInfo": {
     "elapsed": 9071,
     "status": "ok",
     "timestamp": 1704548031731,
     "user": {
      "displayName": "Altemion",
      "userId": "06467421994166200677"
     },
     "user_tz": -540
    },
    "id": "JpLp7qREnmlO",
    "outputId": "2e9b4eae-8231-4e5d-dece-05554b24957c"
   },
   "outputs": [
    {
     "name": "stdout",
     "output_type": "stream",
     "text": [
      "{\n",
      "    \"status\": \"success\",\n",
      "    \"tip\": \"Get 20x faster image generation using enterprise plan. Click here : https://stablediffusionapi.com/enterprise\",\n",
      "    \"generationTime\": 1.6206791400909424,\n",
      "    \"id\": 64609661,\n",
      "    \"output\": [\n",
      "        \"https://pub-3626123a908346a7a8be8d9295f44e26.r2.dev/generations/abf90309-6c3b-4262-9336-6d8cdc079db6-0.png\"\n",
      "    ],\n",
      "    \"proxy_links\": [\n",
      "        \"https://cdn2.stablediffusionapi.com/generations/abf90309-6c3b-4262-9336-6d8cdc079db6-0.png\"\n",
      "    ],\n",
      "    \"nsfw_content_detected\": \"\",\n",
      "    \"meta\": {\n",
      "        \"H\": 512,\n",
      "        \"W\": 512,\n",
      "        \"enable_attention_slicing\": \"true\",\n",
      "        \"file_prefix\": \"abf90309-6c3b-4262-9336-6d8cdc079db6\",\n",
      "        \"guidance_scale\": 7.5,\n",
      "        \"instant_response\": \"no\",\n",
      "        \"model\": \"runwayml/stable-diffusion-v1-5\",\n",
      "        \"n_samples\": 1,\n",
      "        \"negative_prompt\": \"low quality\",\n",
      "        \"outdir\": \"out\",\n",
      "        \"prompt\": \"ultra realistic close up portrait ((beautiful pale cyberpunk female with heavy black eyeliner))\",\n",
      "        \"revision\": \"fp16\",\n",
      "        \"safetychecker\": \"yes\",\n",
      "        \"seed\": 3037064342,\n",
      "        \"steps\": 20,\n",
      "        \"temp\": \"no\",\n",
      "        \"vae\": \"stabilityai/sd-vae-ft-mse\"\n",
      "    }\n",
      "}\n"
     ]
    }
   ],
   "source": [
    "import requests\n",
    "import json\n",
    "\n",
    "url = \"https://stablediffusionapi.com/api/v3/text2img\"\n",
    "\n",
    "payload = json.dumps({\n",
    "    \"key\": SD_API_KEY,\n",
    "    \"prompt\": \"ultra realistic close up portrait ((beautiful pale cyberpunk female with heavy black eyeliner))\",\n",
    "    \"negative_prompt\": None,\n",
    "    \"width\": \"512\",\n",
    "    \"height\": \"512\",\n",
    "    \"samples\": \"1\",\n",
    "    \"num_inference_steps\": \"20\",\n",
    "    \"seed\": None,\n",
    "    \"guidance_scale\": 7.5,\n",
    "    \"safety_checker\": \"yes\",\n",
    "    \"multi_lingual\": \"no\",\n",
    "    \"panorama\": \"no\",\n",
    "    \"self_attention\": \"no\",\n",
    "    \"upscale\": \"no\",\n",
    "    \"embeddings_model\": None,\n",
    "    \"webhook\": None,\n",
    "    \"track_id\": None\n",
    "})\n",
    "\n",
    "headers = {\n",
    "    'Content-Type': 'application/json'\n",
    "}\n",
    "\n",
    "response = requests.request(\"POST\", url, headers=headers, data=payload)\n",
    "response_data = json.loads(response.text)\n",
    "\n",
    "print(json.dumps(response_data, indent=4))"
   ]
  },
  {
   "cell_type": "markdown",
   "metadata": {
    "id": "RjLO3oaoJcz8"
   },
   "source": [
    "3️⃣ Image to Image <br/>\n",
    "  - 입력된 이미지와 프롬프트를 참고하여 이미지를 생성한다.\n",
    "  - Image to Image 코드의 기본 형태에서 2️⃣ Text to Image 의 변경 사항을 적용한 코드이다.\n",
    "  - Image to Image 는 입력된 이미지의 특징 값을 추출하고 프롬프트의 내용을 더해 이미지를 재생성한다는 것을 알 수 있다.\n",
    "  <br/>\n",
    "  \n",
    "*️⃣ Tip\n",
    "  - 출력 결과를 살표보면 meta 데이터 중 prompt와 negative_prompt가 있다.\n",
    "  - 입력한 적 없는 프롬프트가 작성되어 있기 때문이다.\n",
    "  - 이는 API 요청 시 enhance_prompt 매개변수에 입력된 yes의 설정값을 확인하고 서버에서 자동으로 프롬프트를 추가했기 때문이다.\n",
    "  - 원치 않는 프롬프트가 추가되는 것을 막기 위해서는 매개변수에 신경써서 작업할 것을 권장한다.\n",
    "    "
   ]
  },
  {
   "cell_type": "code",
   "execution_count": null,
   "metadata": {
    "colab": {
     "base_uri": "https://localhost:8080/"
    },
    "executionInfo": {
     "elapsed": 10524,
     "status": "ok",
     "timestamp": 1704551365127,
     "user": {
      "displayName": "Altemion",
      "userId": "06467421994166200677"
     },
     "user_tz": -540
    },
    "id": "zE98S3wrGnd0",
    "outputId": "bf68369b-9db6-41b4-c9f0-f5a2f3c0eec8"
   },
   "outputs": [
    {
     "name": "stdout",
     "output_type": "stream",
     "text": [
      "{\n",
      "    \"status\": \"success\",\n",
      "    \"tip\": \"Get 20x faster image generation using enterprise plan. Click here : https://stablediffusionapi.com/enterprise\",\n",
      "    \"generationTime\": 3.4335274696350098,\n",
      "    \"id\": 64619327,\n",
      "    \"output\": [\n",
      "        \"https://pub-3626123a908346a7a8be8d9295f44e26.r2.dev/generations/3dd027e9-b79d-452f-9e54-8df3a29c1362-0.png\"\n",
      "    ],\n",
      "    \"proxy_links\": [\n",
      "        \"https://cdn2.stablediffusionapi.com/generations/3dd027e9-b79d-452f-9e54-8df3a29c1362-0.png\"\n",
      "    ],\n",
      "    \"nsfw_content_detected\": \"\",\n",
      "    \"meta\": {\n",
      "        \"H\": 512,\n",
      "        \"W\": 512,\n",
      "        \"base64\": \"no\",\n",
      "        \"file_prefix\": \"3dd027e9-b79d-452f-9e54-8df3a29c1362\",\n",
      "        \"guidance_scale\": 7.5,\n",
      "        \"init_image\": \"https://cdn.011st.com/11dims/resize/600x600/quality/75/11src/product/5362555937/B.png\",\n",
      "        \"instant_response\": \"no\",\n",
      "        \"n_samples\": 1,\n",
      "        \"negative_prompt\": \"\",\n",
      "        \"outdir\": \"out\",\n",
      "        \"prompt\": \"a cat sitting on a bench\",\n",
      "        \"safetychecker\": \"yes\",\n",
      "        \"seed\": 1222827700,\n",
      "        \"steps\": 20,\n",
      "        \"strength\": 0.7,\n",
      "        \"temp\": \"no\"\n",
      "    }\n",
      "}\n"
     ]
    }
   ],
   "source": [
    "import requests\n",
    "import json\n",
    "\n",
    "url = \"https://stablediffusionapi.com/api/v3/img2img\"\n",
    "\n",
    "payload = json.dumps({\n",
    "    \"key\": SD_API_KEY,\n",
    "    \"prompt\": \"a cat sitting on a bench\",\n",
    "    \"negative_prompt\": None,\n",
    "    \"init_image\": \"https://cdn.011st.com/11dims/resize/600x600/quality/75/11src/product/5362555937/B.png\",\n",
    "    \"width\": \"512\",\n",
    "    \"height\": \"512\",\n",
    "    \"samples\": \"1\",\n",
    "    \"num_inference_steps\": \"30\",\n",
    "    \"safety_checker\": \"yes\",\n",
    "    \"enhance_prompt\": \"no\",\n",
    "    \"guidance_scale\": 7.5,\n",
    "    \"strength\": 0.7,\n",
    "    \"base64\": \"no\",\n",
    "    \"seed\": None,\n",
    "    \"webhook\": None,\n",
    "    \"track_id\": None\n",
    "})\n",
    "\n",
    "headers = {\n",
    "    'Content-Type': 'application/json'\n",
    "}\n",
    "\n",
    "response = requests.request(\"POST\", url, headers=headers, data=payload)\n",
    "response_data = json.loads(response.text)\n",
    "\n",
    "print(json.dumps(response_data, indent=4))"
   ]
  },
  {
   "cell_type": "markdown",
   "metadata": {
    "id": "1kXPOgYnJ0gY"
   },
   "source": [
    "4️⃣ Inpainting <br/>\n",
    "  - 인페인팅은 이미지의 일부분 영역을 지정하여 그 부분에 대해서만 이미지를 재생성하는 기능이다.\n",
    "  - payload 변수의 값을 보면 mask_image가 추가, 반드시 수정할 영역인 mask_image가 필요\n",
    "  - mask_image는 반드시 init_image와 같은 해상도여야만 하며, 수정할 영역은 흰색, 수정하지 않을 영역은 검은색으로 채워져 있는 png 형식의 이미지여야 한다. "
   ]
  },
  {
   "cell_type": "code",
   "execution_count": null,
   "metadata": {
    "id": "_F6Wdjs4GvMr"
   },
   "outputs": [],
   "source": [
    "import requests\n",
    "import json\n",
    "\n",
    "url = \"https://stablediffusionapi.com/api/v3/inpaint\"\n",
    "\n",
    "payload = json.dumps({\n",
    "    \"key\": SD_API_KEY,\n",
    "    \"prompt\": \"a cat sitting on a bench\",\n",
    "    \"negative_prompt\": None,\n",
    "    \"init_image\": \"https://raw.githubusercontent.com/CompVis/stable-diffusion/main/data/inpainting_examples/overture-creations-5sI6fQgYIuo.png\",\n",
    "    \"mask_image\": \"https://raw.githubusercontent.com/CompVis/stable-diffusion/main/data/inpainting_examples/overture-creations-5sI6fQgYIuo_mask.png\",\n",
    "    \"width\": \"512\",\n",
    "    \"height\": \"512\",\n",
    "    \"samples\": \"1\",\n",
    "    \"num_inference_steps\": \"31\",\n",
    "    \"safety_checker\": \"yes\",\n",
    "    \"enhance_prompt\": \"no\",\n",
    "    \"guidance_scale\": 7.5,\n",
    "    \"strength\": 0.7,\n",
    "    \"base64\": \"no\",\n",
    "    \"seed\": None,\n",
    "    \"webhook\": None,\n",
    "    \"track_id\": None\n",
    "})\n",
    "\n",
    "headers = {\n",
    "    'Content-Type': 'application/json'\n",
    "}\n",
    "\n",
    "response = requests.request(\"POST\", url, headers=headers, data=payload)\n",
    "response_data = json.loads(response.text)\n",
    "\n",
    "print(json.dumps(response_data, indent=4))"
   ]
  },
  {
   "cell_type": "markdown",
   "metadata": {
    "id": "Yjz_uxu-Kbyc"
   },
   "source": [
    "5️⃣ Fetch Queued Images <br/>\n",
    "  - 이미지 생성 결과 확인이 늦어질 경우 생성이 완료되었는지 확인하는 API이다.\n",
    "  - 가끔 출력값의 status에는 processing, output에는 아무것도 없는 빈 배열이 출력되는 경우가 있다.\n",
    "  - 이는 스테이블 디퓨전 API 서버에서 이미지 생성이 늦어질 것이 예상될 때 사용자가 한없이 기다리는 상황을 방지하기 위해 응답한 조치의 결과이다.\n",
    "  - 이럴 경우, 다음과 같이 API를 요청하여 이미지 생성이 완료되었는지 확인해야 한다.\n",
    "  - - status의 상태가\n",
    "    - success : 상태가 처리가 완료\n",
    "    - failed : 이미지 생성에 실패\n",
    "    - processing : 작업이 늦어져 여전히 처리중\n",
    "    "
   ]
  },
  {
   "cell_type": "code",
   "execution_count": null,
   "metadata": {
    "colab": {
     "base_uri": "https://localhost:8080/"
    },
    "executionInfo": {
     "elapsed": 1089,
     "status": "ok",
     "timestamp": 1704589572710,
     "user": {
      "displayName": "Altemion",
      "userId": "06467421994166200677"
     },
     "user_tz": -540
    },
    "id": "KfLq2ZxoGzxH",
    "outputId": "1f2f5af5-f147-46fd-a389-0f42d07456c7"
   },
   "outputs": [
    {
     "name": "stdout",
     "output_type": "stream",
     "text": [
      "{\n",
      "    \"status\": \"failed\",\n",
      "    \"id\": \"\",\n",
      "    \"messege\": \"Request not found\",\n",
      "    \"output\": \"\",\n",
      "    \"tip\": \"Get 20x faster image generation using enterprise plan. Click here : https://stablediffusionapi.com/enterprise\"\n",
      "}\n"
     ]
    }
   ],
   "source": [
    "import requests\n",
    "import json\n",
    "\n",
    "url = \"https://stablediffusionapi.com/api/v3/fetch/12202888\"\n",
    "\n",
    "payload = json.dumps({\n",
    "    \"key\": SD_API_KEY\n",
    "})\n",
    "\n",
    "headers = {\n",
    "    'Content-Type': 'application/json'\n",
    "}\n",
    "\n",
    "response = requests.request(\"POST\", url, headers=headers, data=payload)\n",
    "response_data = json.loads(response.text)\n",
    "\n",
    "print(json.dumps(response_data, indent=4))"
   ]
  }
 ],
 "metadata": {
  "colab": {
   "authorship_tag": "ABX9TyN0m6ykHH51PwKVxkBbtzoQ",
   "provenance": []
  },
  "kernelspec": {
   "display_name": "Python 3 (ipykernel)",
   "language": "python",
   "name": "python3"
  },
  "language_info": {
   "codemirror_mode": {
    "name": "ipython",
    "version": 3
   },
   "file_extension": ".py",
   "mimetype": "text/x-python",
   "name": "python",
   "nbconvert_exporter": "python",
   "pygments_lexer": "ipython3",
   "version": "3.12.7"
  }
 },
 "nbformat": 4,
 "nbformat_minor": 4
}
